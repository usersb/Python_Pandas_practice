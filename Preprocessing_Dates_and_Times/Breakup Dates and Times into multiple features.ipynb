{
 "cells": [
  {
   "cell_type": "markdown",
   "metadata": {},
   "source": [
    "**Breakup Dates and Times into multiple features**\n",
    "\n",
    "https://chrisalbon.com/machine_learning/preprocessing_dates_and_times/break_up_dates_and_times_into_multiple_features/"
   ]
  },
  {
   "cell_type": "markdown",
   "metadata": {},
   "source": [
    "**Preliminaries**"
   ]
  },
  {
   "cell_type": "code",
   "execution_count": 1,
   "metadata": {
    "collapsed": true
   },
   "outputs": [],
   "source": [
    "#Load libraries\n",
    "\n",
    "import pandas as pd"
   ]
  },
  {
   "cell_type": "markdown",
   "metadata": {},
   "source": [
    "**Create Date and Time data**"
   ]
  },
  {
   "cell_type": "code",
   "execution_count": 2,
   "metadata": {
    "collapsed": false
   },
   "outputs": [
    {
     "data": {
      "text/plain": [
       "0     2001-01-07\n",
       "1     2001-01-14\n",
       "2     2001-01-21\n",
       "3     2001-01-28\n",
       "4     2001-02-04\n",
       "5     2001-02-11\n",
       "6     2001-02-18\n",
       "7     2001-02-25\n",
       "8     2001-03-04\n",
       "9     2001-03-11\n",
       "10    2001-03-18\n",
       "11    2001-03-25\n",
       "12    2001-04-01\n",
       "13    2001-04-08\n",
       "14    2001-04-15\n",
       "15    2001-04-22\n",
       "16    2001-04-29\n",
       "17    2001-05-06\n",
       "18    2001-05-13\n",
       "19    2001-05-20\n",
       "20    2001-05-27\n",
       "21    2001-06-03\n",
       "22    2001-06-10\n",
       "23    2001-06-17\n",
       "24    2001-06-24\n",
       "25    2001-07-01\n",
       "26    2001-07-08\n",
       "27    2001-07-15\n",
       "28    2001-07-22\n",
       "29    2001-07-29\n",
       "         ...    \n",
       "120   2003-04-27\n",
       "121   2003-05-04\n",
       "122   2003-05-11\n",
       "123   2003-05-18\n",
       "124   2003-05-25\n",
       "125   2003-06-01\n",
       "126   2003-06-08\n",
       "127   2003-06-15\n",
       "128   2003-06-22\n",
       "129   2003-06-29\n",
       "130   2003-07-06\n",
       "131   2003-07-13\n",
       "132   2003-07-20\n",
       "133   2003-07-27\n",
       "134   2003-08-03\n",
       "135   2003-08-10\n",
       "136   2003-08-17\n",
       "137   2003-08-24\n",
       "138   2003-08-31\n",
       "139   2003-09-07\n",
       "140   2003-09-14\n",
       "141   2003-09-21\n",
       "142   2003-09-28\n",
       "143   2003-10-05\n",
       "144   2003-10-12\n",
       "145   2003-10-19\n",
       "146   2003-10-26\n",
       "147   2003-11-02\n",
       "148   2003-11-09\n",
       "149   2003-11-16\n",
       "Name: date, dtype: datetime64[ns]"
      ]
     },
     "execution_count": 2,
     "metadata": {},
     "output_type": "execute_result"
    }
   ],
   "source": [
    "#Create date dataframe\n",
    "\n",
    "df = pd.DataFrame()\n",
    "\n",
    "#Create five dates\n",
    "\n",
    "df['date'] = pd.date_range('1/1/2001',periods = 150, freq = 'W')\n",
    "df['date'] "
   ]
  },
  {
   "cell_type": "markdown",
   "metadata": {},
   "source": [
    "**Break up date and time into individual features**"
   ]
  },
  {
   "cell_type": "code",
   "execution_count": 3,
   "metadata": {
    "collapsed": false
   },
   "outputs": [
    {
     "data": {
      "text/html": [
       "<div>\n",
       "<table border=\"1\" class=\"dataframe\">\n",
       "  <thead>\n",
       "    <tr style=\"text-align: right;\">\n",
       "      <th></th>\n",
       "      <th>date</th>\n",
       "      <th>year</th>\n",
       "      <th>month</th>\n",
       "      <th>day</th>\n",
       "      <th>hour</th>\n",
       "      <th>min</th>\n",
       "    </tr>\n",
       "  </thead>\n",
       "  <tbody>\n",
       "    <tr>\n",
       "      <th>0</th>\n",
       "      <td>2001-01-07</td>\n",
       "      <td>2001</td>\n",
       "      <td>1</td>\n",
       "      <td>7</td>\n",
       "      <td>0</td>\n",
       "      <td>0</td>\n",
       "    </tr>\n",
       "    <tr>\n",
       "      <th>1</th>\n",
       "      <td>2001-01-14</td>\n",
       "      <td>2001</td>\n",
       "      <td>1</td>\n",
       "      <td>14</td>\n",
       "      <td>0</td>\n",
       "      <td>0</td>\n",
       "    </tr>\n",
       "    <tr>\n",
       "      <th>2</th>\n",
       "      <td>2001-01-21</td>\n",
       "      <td>2001</td>\n",
       "      <td>1</td>\n",
       "      <td>21</td>\n",
       "      <td>0</td>\n",
       "      <td>0</td>\n",
       "    </tr>\n",
       "  </tbody>\n",
       "</table>\n",
       "</div>"
      ],
      "text/plain": [
       "        date  year  month  day  hour  min\n",
       "0 2001-01-07  2001      1    7     0    0\n",
       "1 2001-01-14  2001      1   14     0    0\n",
       "2 2001-01-21  2001      1   21     0    0"
      ]
     },
     "execution_count": 3,
     "metadata": {},
     "output_type": "execute_result"
    }
   ],
   "source": [
    "#Create features for year, month, day , hour, minute\n",
    "\n",
    "df['year'] = df['date'].dt.year\n",
    "df['month'] = df['date'].dt.month\n",
    "df['day'] = df['date'].dt.day\n",
    "df['hour'] = df['date'].dt.hour\n",
    "df['min'] = df['date'].dt.minute\n",
    "\n",
    "#Show first three rows\n",
    "\n",
    "df.head(3)"
   ]
  },
  {
   "cell_type": "code",
   "execution_count": null,
   "metadata": {
    "collapsed": true
   },
   "outputs": [],
   "source": []
  }
 ],
 "metadata": {
  "anaconda-cloud": {},
  "kernelspec": {
   "display_name": "Python [conda env:py35]",
   "language": "python",
   "name": "conda-env-py35-py"
  },
  "language_info": {
   "codemirror_mode": {
    "name": "ipython",
    "version": 3
   },
   "file_extension": ".py",
   "mimetype": "text/x-python",
   "name": "python",
   "nbconvert_exporter": "python",
   "pygments_lexer": "ipython3",
   "version": "3.5.2"
  }
 },
 "nbformat": 4,
 "nbformat_minor": 1
}
