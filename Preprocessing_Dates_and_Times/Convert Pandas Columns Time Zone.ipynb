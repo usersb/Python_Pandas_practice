{
 "cells": [
  {
   "cell_type": "markdown",
   "metadata": {},
   "source": [
    "**Convert Pandas Columns Time Zone**\n",
    "\n",
    "https://chrisalbon.com/machine_learning/preprocessing_dates_and_times/convert_pandas_column_timezone/"
   ]
  },
  {
   "cell_type": "markdown",
   "metadata": {},
   "source": [
    "**Preliminaries**"
   ]
  },
  {
   "cell_type": "code",
   "execution_count": 1,
   "metadata": {
    "collapsed": true
   },
   "outputs": [],
   "source": [
    "#Load libraries\n",
    "\n",
    "import pandas as pd\n",
    "from pytz import all_timezones"
   ]
  },
  {
   "cell_type": "markdown",
   "metadata": {},
   "source": [
    "**View ten TimeZones**"
   ]
  },
  {
   "cell_type": "code",
   "execution_count": 3,
   "metadata": {
    "collapsed": false
   },
   "outputs": [
    {
     "data": {
      "text/plain": [
       "['Africa/Abidjan',\n",
       " 'Africa/Accra',\n",
       " 'Africa/Addis_Ababa',\n",
       " 'Africa/Algiers',\n",
       " 'Africa/Asmara',\n",
       " 'Africa/Asmera',\n",
       " 'Africa/Bamako',\n",
       " 'Africa/Bangui',\n",
       " 'Africa/Banjul',\n",
       " 'Africa/Bissau']"
      ]
     },
     "execution_count": 3,
     "metadata": {},
     "output_type": "execute_result"
    }
   ],
   "source": [
    "all_timezones[0:10]"
   ]
  },
  {
   "cell_type": "markdown",
   "metadata": {},
   "source": [
    "**Create Pandas series of dates**"
   ]
  },
  {
   "cell_type": "code",
   "execution_count": 4,
   "metadata": {
    "collapsed": true
   },
   "outputs": [],
   "source": [
    "#Create 10 dates\n",
    "\n",
    "dates = pd.Series(pd.date_range('2/2/2002', periods = 10, freq = 'M'))"
   ]
  },
  {
   "cell_type": "markdown",
   "metadata": {},
   "source": [
    "**Add Time Zone to pandas series**"
   ]
  },
  {
   "cell_type": "code",
   "execution_count": 6,
   "metadata": {
    "collapsed": false
   },
   "outputs": [
    {
     "data": {
      "text/plain": [
       "0   2002-02-28 00:00:00+00:00\n",
       "1   2002-03-31 00:00:00+00:00\n",
       "2   2002-04-30 00:00:00+00:00\n",
       "3   2002-05-31 00:00:00+00:00\n",
       "4   2002-06-30 00:00:00+00:00\n",
       "5   2002-07-31 00:00:00+00:00\n",
       "6   2002-08-31 00:00:00+00:00\n",
       "7   2002-09-30 00:00:00+00:00\n",
       "8   2002-10-31 00:00:00+00:00\n",
       "9   2002-11-30 00:00:00+00:00\n",
       "dtype: datetime64[ns, Africa/Abidjan]"
      ]
     },
     "execution_count": 6,
     "metadata": {},
     "output_type": "execute_result"
    }
   ],
   "source": [
    "#Set Time Zone\n",
    "dates_with_abidjan_time_zone = dates.dt.tz_localize('Africa/Abidjan')\n",
    "\n",
    "#View Pandas series\n",
    "dates_with_abidjan_time_zone"
   ]
  },
  {
   "cell_type": "markdown",
   "metadata": {},
   "source": [
    "**Convert Time Zone of Pandas series**"
   ]
  },
  {
   "cell_type": "code",
   "execution_count": 7,
   "metadata": {
    "collapsed": false
   },
   "outputs": [
    {
     "data": {
      "text/plain": [
       "0   2002-02-28 00:00:00+00:00\n",
       "1   2002-03-31 00:00:00+00:00\n",
       "2   2002-04-30 01:00:00+01:00\n",
       "3   2002-05-31 01:00:00+01:00\n",
       "4   2002-06-30 01:00:00+01:00\n",
       "5   2002-07-31 01:00:00+01:00\n",
       "6   2002-08-31 01:00:00+01:00\n",
       "7   2002-09-30 01:00:00+01:00\n",
       "8   2002-10-31 00:00:00+00:00\n",
       "9   2002-11-30 00:00:00+00:00\n",
       "dtype: datetime64[ns, Europe/London]"
      ]
     },
     "execution_count": 7,
     "metadata": {},
     "output_type": "execute_result"
    }
   ],
   "source": [
    "#Convert time zone\n",
    "\n",
    "dates_with_london_time_zone = dates_with_abidjan_time_zone.dt.tz_convert('Europe/London')\n",
    "\n",
    "#View Pandas series\n",
    "dates_with_london_time_zone"
   ]
  },
  {
   "cell_type": "code",
   "execution_count": null,
   "metadata": {
    "collapsed": true
   },
   "outputs": [],
   "source": []
  }
 ],
 "metadata": {
  "anaconda-cloud": {},
  "kernelspec": {
   "display_name": "Python [conda env:py35]",
   "language": "python",
   "name": "conda-env-py35-py"
  },
  "language_info": {
   "codemirror_mode": {
    "name": "ipython",
    "version": 3
   },
   "file_extension": ".py",
   "mimetype": "text/x-python",
   "name": "python",
   "nbconvert_exporter": "python",
   "pygments_lexer": "ipython3",
   "version": "3.5.2"
  }
 },
 "nbformat": 4,
 "nbformat_minor": 1
}
