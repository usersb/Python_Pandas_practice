{
 "cells": [
  {
   "cell_type": "markdown",
   "metadata": {},
   "source": [
    "**Try, Except and Finally**\n",
    "\n",
    "https://chrisalbon.com/python/basics/try_except_finally/"
   ]
  },
  {
   "cell_type": "markdown",
   "metadata": {},
   "source": [
    "**Create Data**"
   ]
  },
  {
   "cell_type": "code",
   "execution_count": 1,
   "metadata": {
    "collapsed": true
   },
   "outputs": [],
   "source": [
    "scores = [23,453,54,235,74,234]"
   ]
  },
  {
   "cell_type": "markdown",
   "metadata": {},
   "source": [
    "**Try something that doesn't work**"
   ]
  },
  {
   "cell_type": "code",
   "execution_count": 2,
   "metadata": {
    "collapsed": false
   },
   "outputs": [
    {
     "name": "stdout",
     "output_type": "stream",
     "text": [
      "Error: can only concatenate list (not \"str\") to list\n",
      "End Program\n"
     ]
    }
   ],
   "source": [
    "#Try to\n",
    "try:\n",
    "    #Add a list of integers and a string\n",
    "    scores + 'A list of characters'\n",
    "    #if you get an error, set the error as 'e'\n",
    "except Exception as e:\n",
    "    #print error e\n",
    "    print('Error:',e)\n",
    "    #Then,\n",
    "finally:\n",
    "    #print end program\n",
    "    print('End Program')"
   ]
  },
  {
   "cell_type": "markdown",
   "metadata": {},
   "source": [
    "**Try something that works**"
   ]
  },
  {
   "cell_type": "code",
   "execution_count": 4,
   "metadata": {
    "collapsed": false
   },
   "outputs": [
    {
     "name": "stdout",
     "output_type": "stream",
     "text": [
      "Worked! [23, 453, 54, 235, 74, 234]\n",
      "End program\n"
     ]
    }
   ],
   "source": [
    "#try to\n",
    "try:\n",
    "    #print scores\n",
    "    print('Worked!',scores)\n",
    "    #if you get an error, set the error as 'e'\n",
    "except Exception as e:\n",
    "    # print the error, e\n",
    "    print('Error:', e)\n",
    "# Then,\n",
    "finally:\n",
    "    # print end program\n",
    "    print('End program')"
   ]
  },
  {
   "cell_type": "code",
   "execution_count": null,
   "metadata": {
    "collapsed": true
   },
   "outputs": [],
   "source": []
  }
 ],
 "metadata": {
  "kernelspec": {
   "display_name": "Python [conda env:py35]",
   "language": "python",
   "name": "conda-env-py35-py"
  },
  "language_info": {
   "codemirror_mode": {
    "name": "ipython",
    "version": 3
   },
   "file_extension": ".py",
   "mimetype": "text/x-python",
   "name": "python",
   "nbconvert_exporter": "python",
   "pygments_lexer": "ipython3",
   "version": "3.5.2"
  }
 },
 "nbformat": 4,
 "nbformat_minor": 1
}
