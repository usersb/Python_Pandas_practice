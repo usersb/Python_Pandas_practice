{
 "cells": [
  {
   "cell_type": "markdown",
   "metadata": {},
   "source": [
    "**All Combinations for a List of Objects**\n",
    "\n",
    "https://chrisalbon.com/python/basics/all_combinations_of_a_list_of_objects/"
   ]
  },
  {
   "cell_type": "markdown",
   "metadata": {},
   "source": [
    "**Preliminary**"
   ]
  },
  {
   "cell_type": "code",
   "execution_count": 1,
   "metadata": {
    "collapsed": true
   },
   "outputs": [],
   "source": [
    "#Import combinations_with_replacement from itertools\n",
    "\n",
    "from itertools import combinations_with_replacement"
   ]
  },
  {
   "cell_type": "markdown",
   "metadata": {},
   "source": [
    "**Create a List of Objects**"
   ]
  },
  {
   "cell_type": "code",
   "execution_count": 2,
   "metadata": {
    "collapsed": true
   },
   "outputs": [],
   "source": [
    "#Create a list of objects to combine\n",
    "\n",
    "list_of_objects = ['warplanes','armor','infantry']\n"
   ]
  },
  {
   "cell_type": "code",
   "execution_count": 7,
   "metadata": {
    "collapsed": false
   },
   "outputs": [
    {
     "data": {
      "text/plain": [
       "[0, 1, 2]"
      ]
     },
     "execution_count": 7,
     "metadata": {},
     "output_type": "execute_result"
    }
   ],
   "source": [
    "list(range(len(list_of_objects)))"
   ]
  },
  {
   "cell_type": "markdown",
   "metadata": {},
   "source": [
    "**Find all combinations (with replacement) for the list**"
   ]
  },
  {
   "cell_type": "code",
   "execution_count": 8,
   "metadata": {
    "collapsed": false
   },
   "outputs": [
    {
     "data": {
      "text/plain": [
       "[[('warplanes',), ('armor',), ('infantry',)],\n",
       " [('warplanes', 'warplanes'),\n",
       "  ('warplanes', 'armor'),\n",
       "  ('warplanes', 'infantry'),\n",
       "  ('armor', 'armor'),\n",
       "  ('armor', 'infantry'),\n",
       "  ('infantry', 'infantry')],\n",
       " [('warplanes', 'warplanes', 'warplanes'),\n",
       "  ('warplanes', 'warplanes', 'armor'),\n",
       "  ('warplanes', 'warplanes', 'infantry'),\n",
       "  ('warplanes', 'armor', 'armor'),\n",
       "  ('warplanes', 'armor', 'infantry'),\n",
       "  ('warplanes', 'infantry', 'infantry'),\n",
       "  ('armor', 'armor', 'armor'),\n",
       "  ('armor', 'armor', 'infantry'),\n",
       "  ('armor', 'infantry', 'infantry'),\n",
       "  ('infantry', 'infantry', 'infantry')]]"
      ]
     },
     "execution_count": 8,
     "metadata": {},
     "output_type": "execute_result"
    }
   ],
   "source": [
    "#Create an empty list object to hold the results of the loop\n",
    "\n",
    "combinations = []\n",
    "\n",
    "#Create a loop for every item in length of list of objects\n",
    "\n",
    "for i in list(range(len(list_of_objects))):\n",
    "    #Finds every combination (with replacement) for each object in the list\n",
    "    combinations.append(list(combinations_with_replacement(list_of_objects,i+1)))\n",
    "\n",
    "#View Results\n",
    "combinations"
   ]
  },
  {
   "cell_type": "code",
   "execution_count": 9,
   "metadata": {
    "collapsed": false
   },
   "outputs": [
    {
     "data": {
      "text/plain": [
       "[('warplanes',),\n",
       " ('armor',),\n",
       " ('infantry',),\n",
       " ('warplanes', 'warplanes'),\n",
       " ('warplanes', 'armor'),\n",
       " ('warplanes', 'infantry'),\n",
       " ('armor', 'armor'),\n",
       " ('armor', 'infantry'),\n",
       " ('infantry', 'infantry'),\n",
       " ('warplanes', 'warplanes', 'warplanes'),\n",
       " ('warplanes', 'warplanes', 'armor'),\n",
       " ('warplanes', 'warplanes', 'infantry'),\n",
       " ('warplanes', 'armor', 'armor'),\n",
       " ('warplanes', 'armor', 'infantry'),\n",
       " ('warplanes', 'infantry', 'infantry'),\n",
       " ('armor', 'armor', 'armor'),\n",
       " ('armor', 'armor', 'infantry'),\n",
       " ('armor', 'infantry', 'infantry'),\n",
       " ('infantry', 'infantry', 'infantry')]"
      ]
     },
     "execution_count": 9,
     "metadata": {},
     "output_type": "execute_result"
    }
   ],
   "source": [
    "#Flatten the list of lists into just a list\n",
    "combinations = [i for row in combinations for i in row]\n",
    "\n",
    "#View the results\n",
    "combinations"
   ]
  },
  {
   "cell_type": "code",
   "execution_count": null,
   "metadata": {
    "collapsed": true
   },
   "outputs": [],
   "source": []
  }
 ],
 "metadata": {
  "kernelspec": {
   "display_name": "Python [conda env:py35]",
   "language": "python",
   "name": "conda-env-py35-py"
  },
  "language_info": {
   "codemirror_mode": {
    "name": "ipython",
    "version": 3
   },
   "file_extension": ".py",
   "mimetype": "text/x-python",
   "name": "python",
   "nbconvert_exporter": "python",
   "pygments_lexer": "ipython3",
   "version": "3.5.2"
  }
 },
 "nbformat": 4,
 "nbformat_minor": 1
}
