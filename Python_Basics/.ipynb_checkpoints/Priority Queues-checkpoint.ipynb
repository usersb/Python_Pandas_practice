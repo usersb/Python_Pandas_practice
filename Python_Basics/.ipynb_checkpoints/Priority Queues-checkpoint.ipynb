{
 "cells": [
  {
   "cell_type": "markdown",
   "metadata": {},
   "source": [
    "**Priority Queues**\n",
    "\n",
    "https://chrisalbon.com/python/basics/priority_queues/"
   ]
  },
  {
   "cell_type": "markdown",
   "metadata": {},
   "source": [
    "A priority queue is an abstract data type which is like a regular queue or stack data structure, but where additionally each element has a \"priority\" associated with it. In a priority queue, an element with high priority is served before an element with low priority. If two elements have the same priority, they are served according to their order in the queue.\n",
    "\n",
    "While priority queues are often implemented with heaps, they are conceptually distinct from heaps. A priority queue is an abstract concept like \"a list\" or \"a map\"; just as a list can be implemented with a linked list or an array, a priority queue can be implemented with a heap or a variety of other methods such as an unordered array."
   ]
  },
  {
   "cell_type": "markdown",
   "metadata": {},
   "source": [
    "**Preliminaries**"
   ]
  },
  {
   "cell_type": "code",
   "execution_count": 1,
   "metadata": {
    "collapsed": true
   },
   "outputs": [],
   "source": [
    "import heapq"
   ]
  },
  {
   "cell_type": "markdown",
   "metadata": {},
   "source": [
    "**Create a Priority Queue object**"
   ]
  },
  {
   "cell_type": "code",
   "execution_count": 33,
   "metadata": {
    "collapsed": true
   },
   "outputs": [],
   "source": [
    "#Create a priority queue abstract base class\n",
    "\n",
    "class priority_queue:\n",
    "    #Initialize the instance\n",
    "    def __init__(self):\n",
    "        #Create a list to use as the queue\n",
    "        self._queue = []\n",
    "        #Create an index to use as ordering\n",
    "        self._index = 0\n",
    "        \n",
    "    #Create a function to add tasks to the queue\n",
    "    def add_task(self, item, priority):\n",
    "        #Push the arguments to the queue using a heap\n",
    "        heapq.heappush(self._queue, (-priority, self._index, item))\n",
    "        #Add one to the index\n",
    "        self._index += 1\n",
    "        \n",
    "    #Create a function to get the next item from the queue\n",
    "    def next_task(self):\n",
    "        #Return the next item in the queue\n",
    "        return heapq.heappop(self._queue)[-1]"
   ]
  },
  {
   "cell_type": "markdown",
   "metadata": {},
   "source": [
    "**Create a Priority queue called task_list**"
   ]
  },
  {
   "cell_type": "code",
   "execution_count": 34,
   "metadata": {
    "collapsed": true
   },
   "outputs": [],
   "source": [
    "task_list = priority_queue()"
   ]
  },
  {
   "cell_type": "markdown",
   "metadata": {},
   "source": [
    "**Add items to the Queue**"
   ]
  },
  {
   "cell_type": "code",
   "execution_count": 35,
   "metadata": {
    "collapsed": true
   },
   "outputs": [],
   "source": [
    "#Add an item to the queue\n",
    "task_list.add_task('Clean dishes',1)\n",
    "\n",
    "task_list.add_task('Wash Car', 2)\n",
    "\n",
    "task_list.add_task('Walk Dog', 3)"
   ]
  },
  {
   "cell_type": "markdown",
   "metadata": {},
   "source": [
    "**Retrieve items from Queue by priority**\n",
    "\n",
    "\n",
    "pull_highest_priority_element: remove the element from the queue that has the highest priority, and return it.\n",
    "This is also known as \"pop_element(Off)\", \"get_maximum_element\" or \"get_front(most)_element\".\n",
    "Some conventions reverse the order of priorities, considering lower values to be higher priority, so this may also be known as \"get_minimum_element\", and is often referred to as \"get-min\" in the literature"
   ]
  },
  {
   "cell_type": "code",
   "execution_count": 36,
   "metadata": {
    "collapsed": false
   },
   "outputs": [
    {
     "data": {
      "text/plain": [
       "'Walk Dog'"
      ]
     },
     "execution_count": 36,
     "metadata": {},
     "output_type": "execute_result"
    }
   ],
   "source": [
    "#Retrieve item from the list\n",
    "task_list.next_task()"
   ]
  },
  {
   "cell_type": "code",
   "execution_count": 37,
   "metadata": {
    "collapsed": false
   },
   "outputs": [
    {
     "data": {
      "text/plain": [
       "'Wash Car'"
      ]
     },
     "execution_count": 37,
     "metadata": {},
     "output_type": "execute_result"
    }
   ],
   "source": [
    "task_list.next_task()"
   ]
  },
  {
   "cell_type": "code",
   "execution_count": 38,
   "metadata": {
    "collapsed": false
   },
   "outputs": [
    {
     "data": {
      "text/plain": [
       "'Clean dishes'"
      ]
     },
     "execution_count": 38,
     "metadata": {},
     "output_type": "execute_result"
    }
   ],
   "source": [
    "task_list.next_task()"
   ]
  },
  {
   "cell_type": "code",
   "execution_count": null,
   "metadata": {
    "collapsed": true
   },
   "outputs": [],
   "source": []
  }
 ],
 "metadata": {
  "anaconda-cloud": {},
  "kernelspec": {
   "display_name": "Python [conda env:py35]",
   "language": "python",
   "name": "conda-env-py35-py"
  },
  "language_info": {
   "codemirror_mode": {
    "name": "ipython",
    "version": 3
   },
   "file_extension": ".py",
   "mimetype": "text/x-python",
   "name": "python",
   "nbconvert_exporter": "python",
   "pygments_lexer": "ipython3",
   "version": "3.5.2"
  }
 },
 "nbformat": 4,
 "nbformat_minor": 1
}
