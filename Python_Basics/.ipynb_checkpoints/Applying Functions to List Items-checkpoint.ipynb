{
 "cells": [
  {
   "cell_type": "markdown",
   "metadata": {},
   "source": [
    "**Applying Functions to List Items**\n",
    "\n",
    "https://chrisalbon.com/python/basics/applying_functions_to_list_items/"
   ]
  },
  {
   "cell_type": "markdown",
   "metadata": {},
   "source": [
    "**Create a List of regiment names**"
   ]
  },
  {
   "cell_type": "code",
   "execution_count": 1,
   "metadata": {
    "collapsed": true
   },
   "outputs": [],
   "source": [
    "regimentNames = ['Night Riflemen', 'Jungle Scouts', 'The Dragoons', 'Midnight Revengence', 'Wily Warriors']"
   ]
  },
  {
   "cell_type": "markdown",
   "metadata": {},
   "source": [
    "**Using a For Loop**"
   ]
  },
  {
   "cell_type": "markdown",
   "metadata": {},
   "source": [
    "**Create a for loop that goes through each item in regimentNames and capitalizes each**"
   ]
  },
  {
   "cell_type": "code",
   "execution_count": 2,
   "metadata": {
    "collapsed": false
   },
   "outputs": [
    {
     "data": {
      "text/plain": [
       "['NIGHT RIFLEMEN',\n",
       " 'JUNGLE SCOUTS',\n",
       " 'THE DRAGOONS',\n",
       " 'MIDNIGHT REVENGENCE',\n",
       " 'WILY WARRIORS']"
      ]
     },
     "execution_count": 2,
     "metadata": {},
     "output_type": "execute_result"
    }
   ],
   "source": [
    "#Create a variable to hold results\n",
    "regimentNamesCapitalized_f = []\n",
    "\n",
    "#for every item in regimentNames\n",
    "for i in regimentNames:\n",
    "    #capitalize the item and add it to regimentNamesCapitalized_f\n",
    "    regimentNamesCapitalized_f.append(i.upper())\n",
    "    \n",
    "#View the outcome\n",
    "regimentNamesCapitalized_f"
   ]
  },
  {
   "cell_type": "markdown",
   "metadata": {},
   "source": [
    "**Using Map()**"
   ]
  },
  {
   "cell_type": "markdown",
   "metadata": {},
   "source": [
    "**Create a lambda function that capitalizes x**"
   ]
  },
  {
   "cell_type": "code",
   "execution_count": 3,
   "metadata": {
    "collapsed": true
   },
   "outputs": [],
   "source": [
    "capitalizer = lambda x: x.upper()"
   ]
  },
  {
   "cell_type": "markdown",
   "metadata": {},
   "source": [
    "**Map the capitalizer function to regimentNames, convert the map into a list and view the results**"
   ]
  },
  {
   "cell_type": "code",
   "execution_count": 4,
   "metadata": {
    "collapsed": false
   },
   "outputs": [
    {
     "data": {
      "text/plain": [
       "['NIGHT RIFLEMEN',\n",
       " 'JUNGLE SCOUTS',\n",
       " 'THE DRAGOONS',\n",
       " 'MIDNIGHT REVENGENCE',\n",
       " 'WILY WARRIORS']"
      ]
     },
     "execution_count": 4,
     "metadata": {},
     "output_type": "execute_result"
    }
   ],
   "source": [
    "regimentNamesCapitalized_m = list(map(capitalizer,regimentNames))\n",
    "\n",
    "#View results\n",
    "regimentNamesCapitalized_m"
   ]
  },
  {
   "cell_type": "markdown",
   "metadata": {},
   "source": [
    "**Using List Comprehension**"
   ]
  },
  {
   "cell_type": "markdown",
   "metadata": {},
   "source": [
    "**Apply the function upper() to each element in the list regimentNames**"
   ]
  },
  {
   "cell_type": "code",
   "execution_count": 5,
   "metadata": {
    "collapsed": false
   },
   "outputs": [
    {
     "data": {
      "text/plain": [
       "['NIGHT RIFLEMEN',\n",
       " 'JUNGLE SCOUTS',\n",
       " 'THE DRAGOONS',\n",
       " 'MIDNIGHT REVENGENCE',\n",
       " 'WILY WARRIORS']"
      ]
     },
     "execution_count": 5,
     "metadata": {},
     "output_type": "execute_result"
    }
   ],
   "source": [
    "regimentNamesCapitalized_l = [x.upper() for x in regimentNames]\n",
    "\n",
    "#View Results\n",
    "regimentNamesCapitalized_l"
   ]
  },
  {
   "cell_type": "code",
   "execution_count": null,
   "metadata": {
    "collapsed": true
   },
   "outputs": [],
   "source": []
  }
 ],
 "metadata": {
  "anaconda-cloud": {},
  "kernelspec": {
   "display_name": "Python [conda env:py35]",
   "language": "python",
   "name": "conda-env-py35-py"
  },
  "language_info": {
   "codemirror_mode": {
    "name": "ipython",
    "version": 3
   },
   "file_extension": ".py",
   "mimetype": "text/x-python",
   "name": "python",
   "nbconvert_exporter": "python",
   "pygments_lexer": "ipython3",
   "version": "3.5.2"
  }
 },
 "nbformat": 4,
 "nbformat_minor": 1
}
