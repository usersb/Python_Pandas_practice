{
 "cells": [
  {
   "cell_type": "markdown",
   "metadata": {},
   "source": [
    "**Iterating over Dictionary Keys**\n",
    "\n",
    "https://chrisalbon.com/python/basics/iterating_over_dictionary_keys/"
   ]
  },
  {
   "cell_type": "markdown",
   "metadata": {},
   "source": [
    "**Create a Dictionary**"
   ]
  },
  {
   "cell_type": "code",
   "execution_count": 1,
   "metadata": {
    "collapsed": false
   },
   "outputs": [
    {
     "data": {
      "text/plain": [
       "{'Chris Jefferson': 'Orange Army',\n",
       " 'Jessica Billars': 'Green Army',\n",
       " 'Michael Mulligan': 'Red Army',\n",
       " 'Sodoni Dogla': 'Purple Army',\n",
       " 'Steven Johnson': 'Blue Army'}"
      ]
     },
     "execution_count": 1,
     "metadata": {},
     "output_type": "execute_result"
    }
   ],
   "source": [
    "Officers = {'Michael Mulligan': 'Red Army',\n",
    "            'Steven Johnson': 'Blue Army',\n",
    "            'Jessica Billars': 'Green Army',\n",
    "            'Sodoni Dogla': 'Purple Army',\n",
    "            'Chris Jefferson': 'Orange Army'}\n",
    "Officers"
   ]
  },
  {
   "cell_type": "markdown",
   "metadata": {},
   "source": [
    "**Using Dictionary Comprehension**"
   ]
  },
  {
   "cell_type": "code",
   "execution_count": 6,
   "metadata": {
    "collapsed": false
   },
   "outputs": [
    {
     "data": {
      "text/plain": [
       "{'Jessica Billars': 'Green Army',\n",
       " 'Michael Mulligan': 'Red Army',\n",
       " 'Sodoni Dogla': 'Purple Army',\n",
       " 'Steven Johnson': 'Blue Army'}"
      ]
     },
     "execution_count": 6,
     "metadata": {},
     "output_type": "execute_result"
    }
   ],
   "source": [
    "#Display all dictionary entries where the key doesn't start with 'Chris'\n",
    "{key : Officers[key] for key in Officers if not key.startswith('Chris')}"
   ]
  }
 ],
 "metadata": {
  "anaconda-cloud": {},
  "kernelspec": {
   "display_name": "Python [conda env:py35]",
   "language": "python",
   "name": "conda-env-py35-py"
  },
  "language_info": {
   "codemirror_mode": {
    "name": "ipython",
    "version": 3
   },
   "file_extension": ".py",
   "mimetype": "text/x-python",
   "name": "python",
   "nbconvert_exporter": "python",
   "pygments_lexer": "ipython3",
   "version": "3.5.2"
  }
 },
 "nbformat": 4,
 "nbformat_minor": 1
}
