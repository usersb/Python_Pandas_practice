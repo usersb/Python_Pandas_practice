{
 "cells": [
  {
   "cell_type": "markdown",
   "metadata": {},
   "source": [
    "**Brute Force D20 Roll Simulator**\n",
    "\n",
    "https://chrisalbon.com/python/basics/brute_force_d20_simulator/"
   ]
  },
  {
   "cell_type": "markdown",
   "metadata": {},
   "source": [
    "This snippet is a completely inefficient simulator of a 20 sided dice. To create a “successful roll” the snippet has to generate dozens of random numbers."
   ]
  },
  {
   "cell_type": "markdown",
   "metadata": {},
   "source": [
    "**Import the 'random' module**"
   ]
  },
  {
   "cell_type": "code",
   "execution_count": 1,
   "metadata": {
    "collapsed": true
   },
   "outputs": [],
   "source": [
    "import random"
   ]
  },
  {
   "cell_type": "markdown",
   "metadata": {},
   "source": [
    "**Create a variable with a true value**"
   ]
  },
  {
   "cell_type": "code",
   "execution_count": 2,
   "metadata": {
    "collapsed": true
   },
   "outputs": [],
   "source": [
    "rolling = True"
   ]
  },
  {
   "cell_type": "markdown",
   "metadata": {},
   "source": [
    "**Create a while loop that rolls till the first digit is less than or equal to 2 and the second digit is a value less than or equal to 10**"
   ]
  },
  {
   "cell_type": "code",
   "execution_count": null,
   "metadata": {
    "collapsed": true
   },
   "outputs": [],
   "source": [
    "\n",
    "#while rolling is true\n",
    "while rolling:\n",
    "    #Create x, a random number between 0 and 99\n",
    "    x = random.randint(0,99)\n",
    "    #Craete y, a random number between 0 and 99\n",
    "    y = random.randint(0,99)\n",
    "    #if x is less than 2 and y is between 0 and 10\n",
    "    \n",
    "    if x < 2 and 0 < y < 10:\n",
    "        #print the outcome\n",
    "        print(\"You rolled a {0}{1}.\".format(x,y))\n",
    "        #and set roll of False\n",
    "        rolling = False\n",
    "    #otherwise\n",
    "    else:\n",
    "        #Try again\n",
    "        print(\"Trying again...\")\n",
    "        "
   ]
  }
 ],
 "metadata": {
  "kernelspec": {
   "display_name": "Python [conda env:py35]",
   "language": "python",
   "name": "conda-env-py35-py"
  },
  "language_info": {
   "codemirror_mode": {
    "name": "ipython",
    "version": 3
   },
   "file_extension": ".py",
   "mimetype": "text/x-python",
   "name": "python",
   "nbconvert_exporter": "python",
   "pygments_lexer": "ipython3",
   "version": "3.5.2"
  }
 },
 "nbformat": 4,
 "nbformat_minor": 1
}
