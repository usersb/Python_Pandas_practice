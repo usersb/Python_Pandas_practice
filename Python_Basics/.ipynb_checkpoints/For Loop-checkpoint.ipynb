{
 "cells": [
  {
   "cell_type": "markdown",
   "metadata": {},
   "source": [
    "**For Loop**\n",
    "\n",
    "https://chrisalbon.com/python/basics/for_loops/"
   ]
  },
  {
   "cell_type": "code",
   "execution_count": 2,
   "metadata": {
    "collapsed": false
   },
   "outputs": [
    {
     "name": "stdout",
     "output_type": "stream",
     "text": [
      "4320\n",
      "3420\n",
      "9280\n",
      "9200\n",
      "All done!\n"
     ]
    }
   ],
   "source": [
    "#One at a time assign each value of the sequence to i\n",
    "for i in [432, 342, 928, 920]:\n",
    "    #Multiply i by 10 and store the result in a new variable x. Create a new variable x\n",
    "    x = i * 10\n",
    "    #print the value of x\n",
    "    print(x)\n",
    "    #after the entire sequence processes\n",
    "else:\n",
    "    #print this\n",
    "    print('All done!')"
   ]
  },
  {
   "cell_type": "code",
   "execution_count": null,
   "metadata": {
    "collapsed": true
   },
   "outputs": [],
   "source": []
  }
 ],
 "metadata": {
  "kernelspec": {
   "display_name": "Python [conda env:py35]",
   "language": "python",
   "name": "conda-env-py35-py"
  },
  "language_info": {
   "codemirror_mode": {
    "name": "ipython",
    "version": 3
   },
   "file_extension": ".py",
   "mimetype": "text/x-python",
   "name": "python",
   "nbconvert_exporter": "python",
   "pygments_lexer": "ipython3",
   "version": "3.5.2"
  }
 },
 "nbformat": 4,
 "nbformat_minor": 1
}
