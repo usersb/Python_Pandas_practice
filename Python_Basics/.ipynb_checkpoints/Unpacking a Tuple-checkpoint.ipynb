{
 "cells": [
  {
   "cell_type": "markdown",
   "metadata": {},
   "source": [
    "**Unpacking a Tuple**\n",
    "\n",
    "https://chrisalbon.com/python/basics/unpacking_a_tuple/"
   ]
  },
  {
   "cell_type": "markdown",
   "metadata": {},
   "source": [
    "**Create list of tuples**"
   ]
  },
  {
   "cell_type": "code",
   "execution_count": 1,
   "metadata": {
    "collapsed": true
   },
   "outputs": [],
   "source": [
    "# Create a list of tuples where the first and second element of each \n",
    "# tuple is the first last names, respectively\n",
    "\n",
    "soldiers = [('Steve', 'Miller'),('Stacy', 'Markov'), ('Sonya', 'Matthews'), ('Sally', 'Mako')]"
   ]
  },
  {
   "cell_type": "markdown",
   "metadata": {},
   "source": [
    "**Unpack tuples**"
   ]
  },
  {
   "cell_type": "code",
   "execution_count": 3,
   "metadata": {
    "collapsed": false
   },
   "outputs": [
    {
     "name": "stdout",
     "output_type": "stream",
     "text": [
      "Steve\n",
      "Stacy\n",
      "Sonya\n",
      "Sally\n"
     ]
    }
   ],
   "source": [
    "# For the second element for each tuple in soldiers,\n",
    "for _,last_name in soldiers:\n",
    "    # print the first element\n",
    "    print(_)"
   ]
  },
  {
   "cell_type": "code",
   "execution_count": null,
   "metadata": {
    "collapsed": true
   },
   "outputs": [],
   "source": []
  }
 ],
 "metadata": {
  "kernelspec": {
   "display_name": "Python [conda env:py35]",
   "language": "python",
   "name": "conda-env-py35-py"
  },
  "language_info": {
   "codemirror_mode": {
    "name": "ipython",
    "version": 3
   },
   "file_extension": ".py",
   "mimetype": "text/x-python",
   "name": "python",
   "nbconvert_exporter": "python",
   "pygments_lexer": "ipython3",
   "version": "3.5.2"
  }
 },
 "nbformat": 4,
 "nbformat_minor": 1
}
