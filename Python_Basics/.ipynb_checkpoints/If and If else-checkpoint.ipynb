{
 "cells": [
  {
   "cell_type": "markdown",
   "metadata": {},
   "source": [
    "**If and If else**\n",
    "\n",
    "https://chrisalbon.com/python/basics/if_and_if_else_statements/"
   ]
  },
  {
   "cell_type": "markdown",
   "metadata": {},
   "source": [
    "**Create a variable with the status of the conflict**\n",
    "\n",
    "1 if the conflict is active\n",
    "\n",
    "\n",
    "0 if the conflict is not active\n",
    "\n",
    "\n",
    "unknown if the status of the conflict is unknown"
   ]
  },
  {
   "cell_type": "code",
   "execution_count": 1,
   "metadata": {
    "collapsed": true
   },
   "outputs": [],
   "source": [
    "conflict_active = 1"
   ]
  },
  {
   "cell_type": "markdown",
   "metadata": {},
   "source": [
    "**If the conflict is active, print a statement**"
   ]
  },
  {
   "cell_type": "code",
   "execution_count": 2,
   "metadata": {
    "collapsed": false
   },
   "outputs": [
    {
     "name": "stdout",
     "output_type": "stream",
     "text": [
      "Conflict is active\n"
     ]
    }
   ],
   "source": [
    "if conflict_active == 1:\n",
    "    print(\"Conflict is active\")"
   ]
  },
  {
   "cell_type": "markdown",
   "metadata": {},
   "source": [
    "**If conflict is active, print a statement. If not, print another statement**"
   ]
  },
  {
   "cell_type": "code",
   "execution_count": 3,
   "metadata": {
    "collapsed": false
   },
   "outputs": [
    {
     "name": "stdout",
     "output_type": "stream",
     "text": [
      "Conflict is active\n"
     ]
    }
   ],
   "source": [
    "if conflict_active ==1:\n",
    "    print(\"Conflict is active\")\n",
    "else:\n",
    "    print(\"Conflict not active\")"
   ]
  },
  {
   "cell_type": "markdown",
   "metadata": {},
   "source": [
    "**If the conflict is active, print a statement. If not, print another statement.If unknown, print another statement**"
   ]
  },
  {
   "cell_type": "code",
   "execution_count": 4,
   "metadata": {
    "collapsed": false
   },
   "outputs": [
    {
     "name": "stdout",
     "output_type": "stream",
     "text": [
      "Conflict is active\n"
     ]
    }
   ],
   "source": [
    "if conflict_active == 1:\n",
    "    print(\"Conflict is active\")\n",
    "elif conflict_active == 'unknown':\n",
    "    print(\"Status of conflict is unknown\")\n",
    "else:\n",
    "    print(\"Conflict is not active\")"
   ]
  },
  {
   "cell_type": "code",
   "execution_count": null,
   "metadata": {
    "collapsed": true
   },
   "outputs": [],
   "source": []
  }
 ],
 "metadata": {
  "kernelspec": {
   "display_name": "Python [conda env:py35]",
   "language": "python",
   "name": "conda-env-py35-py"
  },
  "language_info": {
   "codemirror_mode": {
    "name": "ipython",
    "version": 3
   },
   "file_extension": ".py",
   "mimetype": "text/x-python",
   "name": "python",
   "nbconvert_exporter": "python",
   "pygments_lexer": "ipython3",
   "version": "3.5.2"
  }
 },
 "nbformat": 4,
 "nbformat_minor": 1
}
