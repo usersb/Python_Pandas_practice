{
 "cells": [
  {
   "cell_type": "markdown",
   "metadata": {},
   "source": [
    "**Iterate an If Else over a List**\n",
    "\n",
    "https://chrisalbon.com/python/basics/iterate_ifelse_over_list/"
   ]
  },
  {
   "cell_type": "markdown",
   "metadata": {},
   "source": [
    "**Create some data**"
   ]
  },
  {
   "cell_type": "code",
   "execution_count": 1,
   "metadata": {
    "collapsed": true
   },
   "outputs": [],
   "source": [
    "word_list = ['Egypt', 'Watching','Eleanor']\n",
    "\n",
    "vowels = ['A','E','I','O','U']"
   ]
  },
  {
   "cell_type": "markdown",
   "metadata": {},
   "source": [
    "**Create a For Loop**"
   ]
  },
  {
   "cell_type": "code",
   "execution_count": 2,
   "metadata": {
    "collapsed": false
   },
   "outputs": [
    {
     "name": "stdout",
     "output_type": "stream",
     "text": [
      "Is Valid!\n",
      "Is Invalid!\n",
      "Is Valid!\n"
     ]
    }
   ],
   "source": [
    "#for each item in the word_list\n",
    "for word in word_list:\n",
    "    #if any word starts with vowel v from vowels\n",
    "    if any([word.startswith(v) for v in vowels]):\n",
    "        #print Is Valid\n",
    "        print('Is Valid!')\n",
    "    else:\n",
    "        #else print Invalid\n",
    "        print('Is Invalid!')"
   ]
  },
  {
   "cell_type": "code",
   "execution_count": null,
   "metadata": {
    "collapsed": true
   },
   "outputs": [],
   "source": []
  }
 ],
 "metadata": {
  "kernelspec": {
   "display_name": "Python [conda env:py35]",
   "language": "python",
   "name": "conda-env-py35-py"
  },
  "language_info": {
   "codemirror_mode": {
    "name": "ipython",
    "version": 3
   },
   "file_extension": ".py",
   "mimetype": "text/x-python",
   "name": "python",
   "nbconvert_exporter": "python",
   "pygments_lexer": "ipython3",
   "version": "3.5.2"
  }
 },
 "nbformat": 4,
 "nbformat_minor": 1
}
