{
 "cells": [
  {
   "cell_type": "markdown",
   "metadata": {},
   "source": [
    "**Continue and Break Loops**\n",
    "\n",
    "https://chrisalbon.com/python/basics/continue_and_break_loops/"
   ]
  },
  {
   "cell_type": "markdown",
   "metadata": {},
   "source": [
    "**Import the random module**"
   ]
  },
  {
   "cell_type": "code",
   "execution_count": 1,
   "metadata": {
    "collapsed": true
   },
   "outputs": [],
   "source": [
    "import random"
   ]
  },
  {
   "cell_type": "markdown",
   "metadata": {},
   "source": [
    "**Create a while loop**"
   ]
  },
  {
   "cell_type": "code",
   "execution_count": 10,
   "metadata": {
    "collapsed": true
   },
   "outputs": [],
   "source": [
    "#Set variable running to True\n",
    "\n",
    "running = True"
   ]
  },
  {
   "cell_type": "code",
   "execution_count": 11,
   "metadata": {
    "collapsed": false
   },
   "outputs": [
    {
     "name": "stdout",
     "output_type": "stream",
     "text": [
      "Too small, starting over\n",
      "Too small, starting over\n",
      "Too small, starting over\n",
      "Too small, starting over\n",
      "Too small, starting over\n",
      "It is 5, breaking loop!\n"
     ]
    }
   ],
   "source": [
    "#while running is True\n",
    "\n",
    "while running:\n",
    "    #Create a random integer between 0 and 5\n",
    "    s = random.randint(0,5)\n",
    "    #if the integer is less than 3\n",
    "    if s < 3:\n",
    "        #print this\n",
    "        print('Too small, starting over')\n",
    "        #Reset the next iteration of the loop\n",
    "        #(i.e. skip everything below and restart from the top)\n",
    "        continue\n",
    "    #if the integer is 4\n",
    "    if s == 4:\n",
    "        running = False\n",
    "        #print this\n",
    "        print('It is 4, setting running to False')\n",
    "    #if the integer is 5\n",
    "    if s == 5:\n",
    "        #print this\n",
    "        print('It is 5, breaking loop!')\n",
    "        #then break the loop\n",
    "        break"
   ]
  },
  {
   "cell_type": "code",
   "execution_count": null,
   "metadata": {
    "collapsed": true
   },
   "outputs": [],
   "source": []
  }
 ],
 "metadata": {
  "kernelspec": {
   "display_name": "Python [conda env:py35]",
   "language": "python",
   "name": "conda-env-py35-py"
  },
  "language_info": {
   "codemirror_mode": {
    "name": "ipython",
    "version": 3
   },
   "file_extension": ".py",
   "mimetype": "text/x-python",
   "name": "python",
   "nbconvert_exporter": "python",
   "pygments_lexer": "ipython3",
   "version": "3.5.2"
  }
 },
 "nbformat": 4,
 "nbformat_minor": 1
}
