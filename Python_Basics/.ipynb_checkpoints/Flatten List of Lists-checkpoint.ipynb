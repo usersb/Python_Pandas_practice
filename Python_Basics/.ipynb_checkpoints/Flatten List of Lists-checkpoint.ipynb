{
 "cells": [
  {
   "cell_type": "markdown",
   "metadata": {},
   "source": [
    "**Flatten List of Lists**\n",
    "\n",
    "https://chrisalbon.com/python/basics/flatten_list_of_lists/"
   ]
  },
  {
   "cell_type": "code",
   "execution_count": 1,
   "metadata": {
    "collapsed": true
   },
   "outputs": [],
   "source": [
    "#Create a list containing three lists of names\n",
    "\n",
    "list_of_lists = [['Amy','Betty','Cathryn','Dana'],\n",
    "                 ['Elizabeth','Fay','Gora'],\n",
    "                 ['Heidi','Jane','Kayley']\n",
    "                ]"
   ]
  },
  {
   "cell_type": "code",
   "execution_count": 2,
   "metadata": {
    "collapsed": false
   },
   "outputs": [
    {
     "data": {
      "text/plain": [
       "['Amy',\n",
       " 'Betty',\n",
       " 'Cathryn',\n",
       " 'Dana',\n",
       " 'Elizabeth',\n",
       " 'Fay',\n",
       " 'Gora',\n",
       " 'Heidi',\n",
       " 'Jane',\n",
       " 'Kayley']"
      ]
     },
     "execution_count": 2,
     "metadata": {},
     "output_type": "execute_result"
    }
   ],
   "source": [
    "#For each element in the list of lists, take each item in the list\n",
    "\n",
    "flattened_list = [i for row in list_of_lists for i in row]\n",
    "\n",
    "#View the flattened list\n",
    "flattened_list"
   ]
  },
  {
   "cell_type": "code",
   "execution_count": null,
   "metadata": {
    "collapsed": true
   },
   "outputs": [],
   "source": []
  }
 ],
 "metadata": {
  "anaconda-cloud": {},
  "kernelspec": {
   "display_name": "Python [conda env:py35]",
   "language": "python",
   "name": "conda-env-py35-py"
  },
  "language_info": {
   "codemirror_mode": {
    "name": "ipython",
    "version": 3
   },
   "file_extension": ".py",
   "mimetype": "text/x-python",
   "name": "python",
   "nbconvert_exporter": "python",
   "pygments_lexer": "ipython3",
   "version": "3.5.2"
  }
 },
 "nbformat": 4,
 "nbformat_minor": 1
}
