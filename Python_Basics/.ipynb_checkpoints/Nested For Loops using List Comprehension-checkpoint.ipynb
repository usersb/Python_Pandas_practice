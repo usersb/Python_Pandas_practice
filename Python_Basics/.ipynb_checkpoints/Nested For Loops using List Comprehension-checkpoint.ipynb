{
 "cells": [
  {
   "cell_type": "markdown",
   "metadata": {},
   "source": [
    "**Nested For Loops using List Comprehension**\n",
    "\n",
    "https://chrisalbon.com/python/basics/nested_for_loops_using_list_comprehension/"
   ]
  },
  {
   "cell_type": "code",
   "execution_count": 1,
   "metadata": {
    "collapsed": true
   },
   "outputs": [],
   "source": [
    "# Create two lists\n",
    "squads = ['1st Squad', '2nd Squad', '3rd Squad']\n",
    "regiments = ['51st Regiment', '15th Regiment', '12th Regiment']"
   ]
  },
  {
   "cell_type": "code",
   "execution_count": 4,
   "metadata": {
    "collapsed": false
   },
   "outputs": [
    {
     "data": {
      "text/plain": [
       "[('51st Regiment', '1st Squad'),\n",
       " ('51st Regiment', '2nd Squad'),\n",
       " ('51st Regiment', '3rd Squad'),\n",
       " ('15th Regiment', '1st Squad'),\n",
       " ('15th Regiment', '2nd Squad'),\n",
       " ('15th Regiment', '3rd Squad'),\n",
       " ('12th Regiment', '1st Squad'),\n",
       " ('12th Regiment', '2nd Squad'),\n",
       " ('12th Regiment', '3rd Squad')]"
      ]
     },
     "execution_count": 4,
     "metadata": {},
     "output_type": "execute_result"
    }
   ],
   "source": [
    "# Create a tuple for each regiment in regiments, for each squad in sqauds\n",
    "[(regiment,squad) for regiment in regiments for squad in squads]"
   ]
  },
  {
   "cell_type": "code",
   "execution_count": null,
   "metadata": {
    "collapsed": true
   },
   "outputs": [],
   "source": []
  }
 ],
 "metadata": {
  "anaconda-cloud": {},
  "kernelspec": {
   "display_name": "Python [conda env:py35]",
   "language": "python",
   "name": "conda-env-py35-py"
  },
  "language_info": {
   "codemirror_mode": {
    "name": "ipython",
    "version": 3
   },
   "file_extension": ".py",
   "mimetype": "text/x-python",
   "name": "python",
   "nbconvert_exporter": "python",
   "pygments_lexer": "ipython3",
   "version": "3.5.2"
  }
 },
 "nbformat": 4,
 "nbformat_minor": 1
}
