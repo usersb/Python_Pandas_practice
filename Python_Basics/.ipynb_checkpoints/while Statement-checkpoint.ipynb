{
 "cells": [
  {
   "cell_type": "markdown",
   "metadata": {},
   "source": [
    "**while Statement**\n",
    "\n",
    "https://chrisalbon.com/python/basics/while_statements/"
   ]
  },
  {
   "cell_type": "markdown",
   "metadata": {},
   "source": [
    "**Preliminaries**"
   ]
  },
  {
   "cell_type": "code",
   "execution_count": 1,
   "metadata": {
    "collapsed": true
   },
   "outputs": [],
   "source": [
    "import random"
   ]
  },
  {
   "cell_type": "markdown",
   "metadata": {},
   "source": [
    "**Create a variable of the true number of deaths of an event**"
   ]
  },
  {
   "cell_type": "code",
   "execution_count": 10,
   "metadata": {
    "collapsed": true
   },
   "outputs": [],
   "source": [
    "deaths = 6"
   ]
  },
  {
   "cell_type": "markdown",
   "metadata": {},
   "source": [
    "**Create a variable which denotes if the while loop should keep running**"
   ]
  },
  {
   "cell_type": "code",
   "execution_count": 11,
   "metadata": {
    "collapsed": true
   },
   "outputs": [],
   "source": [
    "running = True"
   ]
  },
  {
   "cell_type": "markdown",
   "metadata": {},
   "source": [
    "**while running is True**"
   ]
  },
  {
   "cell_type": "code",
   "execution_count": 12,
   "metadata": {
    "collapsed": false
   },
   "outputs": [
    {
     "name": "stdout",
     "output_type": "stream",
     "text": [
      "No, It is higher than 3\n",
      "No, It is lower than 8\n",
      "No, It is higher than 3\n",
      "Correct! 6\n"
     ]
    }
   ],
   "source": [
    "while running:\n",
    "    #Create a variable that randomly creates an integer between 0 and 10\n",
    "    guess = random.randint(0,10)\n",
    "    \n",
    "    #If guess equals deaths\n",
    "    if guess == deaths:\n",
    "        #then print this\n",
    "        print(\"Correct!\", guess)\n",
    "        #Also set running to false to stop the script\n",
    "        running = False\n",
    "    #else if guess is lower than deaths\n",
    "    elif guess < deaths:\n",
    "        #then, print this\n",
    "        print(\"No, It is higher than\", guess)\n",
    "    else:\n",
    "        #print this\n",
    "        print(\"No, It is lower than\", guess)\n",
    "    "
   ]
  },
  {
   "cell_type": "code",
   "execution_count": null,
   "metadata": {
    "collapsed": true
   },
   "outputs": [],
   "source": []
  }
 ],
 "metadata": {
  "kernelspec": {
   "display_name": "Python [conda env:py35]",
   "language": "python",
   "name": "conda-env-py35-py"
  },
  "language_info": {
   "codemirror_mode": {
    "name": "ipython",
    "version": 3
   },
   "file_extension": ".py",
   "mimetype": "text/x-python",
   "name": "python",
   "nbconvert_exporter": "python",
   "pygments_lexer": "ipython3",
   "version": "3.5.2"
  }
 },
 "nbformat": 4,
 "nbformat_minor": 1
}
