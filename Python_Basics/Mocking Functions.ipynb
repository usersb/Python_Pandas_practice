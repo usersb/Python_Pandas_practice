{
 "cells": [
  {
   "cell_type": "markdown",
   "metadata": {},
   "source": [
    "**Mocking Functions**\n",
    "\n",
    "https://chrisalbon.com/python/basics/mocking_functions/"
   ]
  },
  {
   "cell_type": "markdown",
   "metadata": {},
   "source": [
    "**Preliminaries**"
   ]
  },
  {
   "cell_type": "code",
   "execution_count": 2,
   "metadata": {
    "collapsed": false
   },
   "outputs": [],
   "source": [
    "import unittest\n",
    "import unittest.mock\n",
    "from math import exp"
   ]
  },
  {
   "cell_type": "markdown",
   "metadata": {},
   "source": [
    "** The Scenario**"
   ]
  },
  {
   "cell_type": "markdown",
   "metadata": {},
   "source": [
    "Imagine we have a function that takes some external API or database and we want to test that function but with fake or mocked inputs. The python mock library lets us do that.\n",
    "\n",
    "For this tutorial pretend that math.exp is some expensive operation (e.g. Database query, API call etc.) that costs 10,000 dollars every time we use it. \n",
    "To test it without paying $10,000 we can create mock_function which imitates the behavior or math.exp and allows us to test it."
   ]
  },
  {
   "cell_type": "markdown",
   "metadata": {},
   "source": [
    "**Create a Mock function**"
   ]
  },
  {
   "cell_type": "code",
   "execution_count": 3,
   "metadata": {
    "collapsed": true
   },
   "outputs": [],
   "source": [
    "#Create a function\n",
    "\n",
    "def mock_function(x):\n",
    "    #That returns a string\n",
    "    return 'This is not exp, but rather a mock function'"
   ]
  },
  {
   "cell_type": "markdown",
   "metadata": {},
   "source": [
    "**Create a Unit Test**"
   ]
  },
  {
   "cell_type": "code",
   "execution_count": 6,
   "metadata": {
    "collapsed": false
   },
   "outputs": [],
   "source": [
    "#Create a Test Case\n",
    "\n",
    "class Test_random(unittest.TestCase):\n",
    "    #where math.exp (__main__.exp is because we imported the exp module from math) is replaced(mocked) by mock_function\n",
    "    @unittest.mock.patch('__main__.exp', side_effect = mock_function)\n",
    "    # now create a unit test that would only be true IF the exp(4) was being mocked\n",
    "    # (so we can prove that math.exp is actually being mocked)\n",
    "    def test_math_exp(self, mock_function):\n",
    "        # assert that math.exp(4) is actually a string, which would only be the case\n",
    "        # if math.exp was being mocked by mock_function\n",
    "        assert exp(4) == 'This is not exp, but rather mock_function.'"
   ]
  },
  {
   "cell_type": "markdown",
   "metadata": {},
   "source": [
    "**Run Unit Test**"
   ]
  },
  {
   "cell_type": "code",
   "execution_count": 7,
   "metadata": {
    "collapsed": false
   },
   "outputs": [
    {
     "name": "stderr",
     "output_type": "stream",
     "text": [
      "test_math_exp (__main__.Test_random) ... FAIL\n",
      "\n",
      "======================================================================\n",
      "FAIL: test_math_exp (__main__.Test_random)\n",
      "----------------------------------------------------------------------\n",
      "Traceback (most recent call last):\n",
      "  File \"/Users/Sonal/anaconda/envs/py35/lib/python3.5/unittest/mock.py\", line 1157, in patched\n",
      "    return func(*args, **keywargs)\n",
      "  File \"<ipython-input-6-6b8a7e494999>\", line 11, in test_math_exp\n",
      "    assert exp(4) == 'This is not exp, but rather mock_function.'\n",
      "AssertionError\n",
      "\n",
      "----------------------------------------------------------------------\n",
      "Ran 1 test in 0.031s\n",
      "\n",
      "FAILED (failures=1)\n"
     ]
    },
    {
     "data": {
      "text/plain": [
       "<unittest.main.TestProgram at 0x104a700b8>"
      ]
     },
     "execution_count": 7,
     "metadata": {},
     "output_type": "execute_result"
    }
   ],
   "source": [
    "unittest.main(argv=['ignored', '-v'], exit=False)"
   ]
  },
  {
   "cell_type": "code",
   "execution_count": null,
   "metadata": {
    "collapsed": true
   },
   "outputs": [],
   "source": []
  }
 ],
 "metadata": {
  "kernelspec": {
   "display_name": "Python [conda env:py35]",
   "language": "python",
   "name": "conda-env-py35-py"
  },
  "language_info": {
   "codemirror_mode": {
    "name": "ipython",
    "version": 3
   },
   "file_extension": ".py",
   "mimetype": "text/x-python",
   "name": "python",
   "nbconvert_exporter": "python",
   "pygments_lexer": "ipython3",
   "version": "3.5.2"
  }
 },
 "nbformat": 4,
 "nbformat_minor": 1
}
