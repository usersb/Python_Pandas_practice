{
 "cells": [
  {
   "cell_type": "markdown",
   "metadata": {},
   "source": [
    "**Geocoding and Reverse Geocoding**\n",
    "\n",
    "https://chrisalbon.com/python/data_wrangling/geocoding_and_reverse_geocoding/"
   ]
  },
  {
   "cell_type": "markdown",
   "metadata": {},
   "source": [
    "Geocoding (converting a physical address or location into latitude/longitude) and reverse geocoding (converting a lat/long to a physical address or location) are common tasks when working with geo-data.\n",
    "\n",
    "Python offers a number of packages to make the task incredibly easy. In the tutorial below, I use pygeocoder, a wrapper for Google’s geo-API, to both geocode and reverse geocode."
   ]
  },
  {
   "cell_type": "markdown",
   "metadata": {},
   "source": [
    "**Preliminaries**"
   ]
  },
  {
   "cell_type": "markdown",
   "metadata": {},
   "source": [
    "First we want to load the packages we will want to use in the script. Specifically, I am loading pygeocoder for its geo-functionality, pandas for its dataframe structures, and numpy for its missing value (np.nan) functionality."
   ]
  },
  {
   "cell_type": "code",
   "execution_count": 2,
   "metadata": {
    "collapsed": false
   },
   "outputs": [],
   "source": [
    "from pygeocoder import Geocoder\n",
    "import pandas as pd\n",
    "import numpy as np\n"
   ]
  },
  {
   "cell_type": "markdown",
   "metadata": {},
   "source": [
    "**Create some simulated GeoData**"
   ]
  },
  {
   "cell_type": "code",
   "execution_count": 3,
   "metadata": {
    "collapsed": true
   },
   "outputs": [],
   "source": [
    "# Create a dictionary of raw data\n",
    "data = {'Site 1': '31.336968, -109.560959',\n",
    "        'Site 2': '31.347745, -108.229963',\n",
    "        'Site 3': '32.277621, -107.734724',\n",
    "        'Site 4': '31.655494, -106.420484',\n",
    "        'Site 5': '30.295053, -104.014528'}"
   ]
  },
  {
   "cell_type": "markdown",
   "metadata": {},
   "source": [
    "While technically unnecessary, let us turn the dictionary of simulated data into a dataframe."
   ]
  },
  {
   "cell_type": "code",
   "execution_count": 4,
   "metadata": {
    "collapsed": false
   },
   "outputs": [
    {
     "data": {
      "text/html": [
       "<div>\n",
       "<table border=\"1\" class=\"dataframe\">\n",
       "  <thead>\n",
       "    <tr style=\"text-align: right;\">\n",
       "      <th></th>\n",
       "      <th>0</th>\n",
       "    </tr>\n",
       "  </thead>\n",
       "  <tbody>\n",
       "    <tr>\n",
       "      <th>Site 1</th>\n",
       "      <td>31.336968, -109.560959</td>\n",
       "    </tr>\n",
       "    <tr>\n",
       "      <th>Site 4</th>\n",
       "      <td>31.655494, -106.420484</td>\n",
       "    </tr>\n",
       "    <tr>\n",
       "      <th>Site 3</th>\n",
       "      <td>32.277621, -107.734724</td>\n",
       "    </tr>\n",
       "    <tr>\n",
       "      <th>Site 2</th>\n",
       "      <td>31.347745, -108.229963</td>\n",
       "    </tr>\n",
       "    <tr>\n",
       "      <th>Site 5</th>\n",
       "      <td>30.295053, -104.014528</td>\n",
       "    </tr>\n",
       "  </tbody>\n",
       "</table>\n",
       "</div>"
      ],
      "text/plain": [
       "                             0\n",
       "Site 1  31.336968, -109.560959\n",
       "Site 4  31.655494, -106.420484\n",
       "Site 3  32.277621, -107.734724\n",
       "Site 2  31.347745, -108.229963\n",
       "Site 5  30.295053, -104.014528"
      ]
     },
     "execution_count": 4,
     "metadata": {},
     "output_type": "execute_result"
    }
   ],
   "source": [
    "df = pd.DataFrame.from_dict(data,orient=\"index\")\n",
    "df"
   ]
  },
  {
   "cell_type": "markdown",
   "metadata": {},
   "source": [
    "You can see now that we have a a dataframe with five rows, with each now containing a string of latitude and longitude. Before we can work with the data, we’ll need to 1) seperate the strings into latitude and longitude and 2) convert them into floats. The function below does just that."
   ]
  },
  {
   "cell_type": "code",
   "execution_count": 5,
   "metadata": {
    "collapsed": true
   },
   "outputs": [],
   "source": [
    "#Create two lists for the loop results to be placed\n",
    "\n",
    "lat = []\n",
    "lon = []\n",
    "\n",
    "# For each row in a variable,\n",
    "for row in df[0]:\n",
    "    # Try to,\n",
    "    try:\n",
    "        # Split the row by comma, convert to float, and append\n",
    "        # everything before the comma to lat\n",
    "        lat.append(float(row.split(',')[0]))\n",
    "        \n",
    "        # Split the row by comma, convert to float, and append\n",
    "        # everything after the comma to lon\n",
    "        lon.append(float(row.split(',')[1]))\n",
    "    # But if you get an error\n",
    "    except:\n",
    "        # append a missing value to lat\n",
    "        lat.append(np.nan)\n",
    "        # append a missing value to lon\n",
    "        lon.append(np.nan)\n",
    "        \n",
    "#Create two new columns from lat and lon\n",
    "\n",
    "df['lat'] = lat\n",
    "df['lon'] = lon"
   ]
  },
  {
   "cell_type": "markdown",
   "metadata": {},
   "source": [
    "Let's take a look at what we have now"
   ]
  },
  {
   "cell_type": "code",
   "execution_count": 6,
   "metadata": {
    "collapsed": false
   },
   "outputs": [
    {
     "data": {
      "text/html": [
       "<div>\n",
       "<table border=\"1\" class=\"dataframe\">\n",
       "  <thead>\n",
       "    <tr style=\"text-align: right;\">\n",
       "      <th></th>\n",
       "      <th>0</th>\n",
       "      <th>lat</th>\n",
       "      <th>lon</th>\n",
       "    </tr>\n",
       "  </thead>\n",
       "  <tbody>\n",
       "    <tr>\n",
       "      <th>Site 1</th>\n",
       "      <td>31.336968, -109.560959</td>\n",
       "      <td>31.336968</td>\n",
       "      <td>-109.560959</td>\n",
       "    </tr>\n",
       "    <tr>\n",
       "      <th>Site 4</th>\n",
       "      <td>31.655494, -106.420484</td>\n",
       "      <td>31.655494</td>\n",
       "      <td>-106.420484</td>\n",
       "    </tr>\n",
       "    <tr>\n",
       "      <th>Site 3</th>\n",
       "      <td>32.277621, -107.734724</td>\n",
       "      <td>32.277621</td>\n",
       "      <td>-107.734724</td>\n",
       "    </tr>\n",
       "    <tr>\n",
       "      <th>Site 2</th>\n",
       "      <td>31.347745, -108.229963</td>\n",
       "      <td>31.347745</td>\n",
       "      <td>-108.229963</td>\n",
       "    </tr>\n",
       "    <tr>\n",
       "      <th>Site 5</th>\n",
       "      <td>30.295053, -104.014528</td>\n",
       "      <td>30.295053</td>\n",
       "      <td>-104.014528</td>\n",
       "    </tr>\n",
       "  </tbody>\n",
       "</table>\n",
       "</div>"
      ],
      "text/plain": [
       "                             0        lat         lon\n",
       "Site 1  31.336968, -109.560959  31.336968 -109.560959\n",
       "Site 4  31.655494, -106.420484  31.655494 -106.420484\n",
       "Site 3  32.277621, -107.734724  32.277621 -107.734724\n",
       "Site 2  31.347745, -108.229963  31.347745 -108.229963\n",
       "Site 5  30.295053, -104.014528  30.295053 -104.014528"
      ]
     },
     "execution_count": 6,
     "metadata": {},
     "output_type": "execute_result"
    }
   ],
   "source": [
    "df"
   ]
  },
  {
   "cell_type": "code",
   "execution_count": 7,
   "metadata": {
    "collapsed": false
   },
   "outputs": [
    {
     "data": {
      "text/plain": [
       "0       object\n",
       "lat    float64\n",
       "lon    float64\n",
       "dtype: object"
      ]
     },
     "execution_count": 7,
     "metadata": {},
     "output_type": "execute_result"
    }
   ],
   "source": [
    "df.dtypes"
   ]
  },
  {
   "cell_type": "markdown",
   "metadata": {},
   "source": [
    "Awesome. This is exactly what we want to see, one column of floats for latitude and one column of floats for longitude."
   ]
  },
  {
   "cell_type": "markdown",
   "metadata": {},
   "source": [
    "**Reverse Geocoding**"
   ]
  },
  {
   "cell_type": "markdown",
   "metadata": {},
   "source": [
    "To reverse geocode, we feed a specific latitude and longitude pair, in this case the first row (indexed as ‘0’) into pygeocoder’s reverse_geocode function."
   ]
  },
  {
   "cell_type": "code",
   "execution_count": 16,
   "metadata": {
    "collapsed": false
   },
   "outputs": [],
   "source": [
    "#Convert latitude and longitude to a location\n",
    "\n",
    "results = Geocoder.reverse_geocode(df['lat'][0],df['lon'][0])"
   ]
  },
  {
   "cell_type": "code",
   "execution_count": 17,
   "metadata": {
    "collapsed": false
   },
   "outputs": [
    {
     "data": {
      "text/plain": [
       "(31.3372728, -109.5609559)"
      ]
     },
     "execution_count": 17,
     "metadata": {},
     "output_type": "execute_result"
    }
   ],
   "source": [
    "# Print the lat/long\n",
    "results.coordinates"
   ]
  },
  {
   "cell_type": "code",
   "execution_count": 18,
   "metadata": {
    "collapsed": false
   },
   "outputs": [
    {
     "data": {
      "text/plain": [
       "'Douglas'"
      ]
     },
     "execution_count": 18,
     "metadata": {},
     "output_type": "execute_result"
    }
   ],
   "source": [
    "# Print the city\n",
    "results.city"
   ]
  },
  {
   "cell_type": "code",
   "execution_count": 19,
   "metadata": {
    "collapsed": false
   },
   "outputs": [
    {
     "data": {
      "text/plain": [
       "'United States'"
      ]
     },
     "execution_count": 19,
     "metadata": {},
     "output_type": "execute_result"
    }
   ],
   "source": [
    "# Print the country\n",
    "results.country"
   ]
  },
  {
   "cell_type": "code",
   "execution_count": 20,
   "metadata": {
    "collapsed": true
   },
   "outputs": [],
   "source": [
    "# Print the street address (if applicable)\n",
    "results.street_address"
   ]
  },
  {
   "cell_type": "code",
   "execution_count": 21,
   "metadata": {
    "collapsed": false
   },
   "outputs": [
    {
     "data": {
      "text/plain": [
       "'Arizona'"
      ]
     },
     "execution_count": 21,
     "metadata": {},
     "output_type": "execute_result"
    }
   ],
   "source": [
    "# Print the admin1 level\n",
    "results.administrative_area_level_1"
   ]
  },
  {
   "cell_type": "markdown",
   "metadata": {},
   "source": [
    "**Geocoding**"
   ]
  },
  {
   "cell_type": "markdown",
   "metadata": {},
   "source": [
    "For geocoding, we need to submit a string containing an address or location (such as a city) into the geocode function. However, not all strings are formatted in a way that Google’s geo-API can make sense of them. We can text if an input is valid by using the .geocode().valid_address function."
   ]
  },
  {
   "cell_type": "code",
   "execution_count": 10,
   "metadata": {
    "collapsed": false
   },
   "outputs": [
    {
     "data": {
      "text/plain": [
       "True"
      ]
     },
     "execution_count": 10,
     "metadata": {},
     "output_type": "execute_result"
    }
   ],
   "source": [
    "# Verify that an address is valid (i.e. in Google's system)\n",
    "\n",
    "Geocoder.geocode(\"4207 N Washington Ave, Douglas, AZ 85607\").valid_address"
   ]
  },
  {
   "cell_type": "markdown",
   "metadata": {},
   "source": [
    "Because the output was True, we now know that this is a valid address and thus can print the latitude and longitude coordinates."
   ]
  },
  {
   "cell_type": "code",
   "execution_count": 1,
   "metadata": {
    "collapsed": false
   },
   "outputs": [
    {
     "ename": "NameError",
     "evalue": "name 'results' is not defined",
     "output_type": "error",
     "traceback": [
      "\u001b[0;31m---------------------------------------------------------------------------\u001b[0m",
      "\u001b[0;31mNameError\u001b[0m                                 Traceback (most recent call last)",
      "\u001b[0;32m<ipython-input-1-9a7d40f9986f>\u001b[0m in \u001b[0;36m<module>\u001b[0;34m()\u001b[0m\n\u001b[1;32m      1\u001b[0m \u001b[0;31m# Print the lat/long\u001b[0m\u001b[0;34m\u001b[0m\u001b[0;34m\u001b[0m\u001b[0m\n\u001b[0;32m----> 2\u001b[0;31m \u001b[0mresults\u001b[0m\u001b[0;34m.\u001b[0m\u001b[0mcoordinates\u001b[0m\u001b[0;34m\u001b[0m\u001b[0m\n\u001b[0m",
      "\u001b[0;31mNameError\u001b[0m: name 'results' is not defined"
     ]
    }
   ],
   "source": [
    "# Print the lat/long\n",
    "results.coordinates"
   ]
  },
  {
   "cell_type": "markdown",
   "metadata": {},
   "source": [
    "But even more interesting, once the address is processed by the Google geo API, we can parse it and easily separate street numbers, street names, etc."
   ]
  },
  {
   "cell_type": "code",
   "execution_count": 13,
   "metadata": {
    "collapsed": true
   },
   "outputs": [],
   "source": [
    "# Find the lat/long of a certain address\n",
    "result = Geocoder.geocode(\"7250 South Tucson Boulevard, Tucson, AZ 85756\")"
   ]
  },
  {
   "cell_type": "code",
   "execution_count": 14,
   "metadata": {
    "collapsed": false
   },
   "outputs": [
    {
     "data": {
      "text/plain": [
       "'7250'"
      ]
     },
     "execution_count": 14,
     "metadata": {},
     "output_type": "execute_result"
    }
   ],
   "source": [
    "# Print the street number\n",
    "result.street_number"
   ]
  },
  {
   "cell_type": "code",
   "execution_count": 15,
   "metadata": {
    "collapsed": false
   },
   "outputs": [
    {
     "data": {
      "text/plain": [
       "'South Tucson Boulevard'"
      ]
     },
     "execution_count": 15,
     "metadata": {},
     "output_type": "execute_result"
    }
   ],
   "source": [
    "# Print the street name\n",
    "result.route"
   ]
  },
  {
   "cell_type": "markdown",
   "metadata": {},
   "source": [
    "And there you have it. Python makes this entire process easy and inserting it into an analysis only takes a few minutes. Good luck!"
   ]
  },
  {
   "cell_type": "code",
   "execution_count": null,
   "metadata": {
    "collapsed": true
   },
   "outputs": [],
   "source": []
  }
 ],
 "metadata": {
  "kernelspec": {
   "display_name": "Python [conda env:py35]",
   "language": "python",
   "name": "conda-env-py35-py"
  },
  "language_info": {
   "codemirror_mode": {
    "name": "ipython",
    "version": 3
   },
   "file_extension": ".py",
   "mimetype": "text/x-python",
   "name": "python",
   "nbconvert_exporter": "python",
   "pygments_lexer": "ipython3",
   "version": "3.5.2"
  }
 },
 "nbformat": 4,
 "nbformat_minor": 1
}
