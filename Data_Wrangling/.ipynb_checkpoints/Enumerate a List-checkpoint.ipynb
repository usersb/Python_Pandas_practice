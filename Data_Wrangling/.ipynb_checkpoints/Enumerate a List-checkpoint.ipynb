{
 "cells": [
  {
   "cell_type": "markdown",
   "metadata": {},
   "source": [
    "**Enumerate a List**\n",
    "\n",
    "https://chrisalbon.com/python/data_wrangling/enumerate_a_list/\n",
    "\n",
    "\n",
    "\n",
    "**enumerate() is one of the built-in Python functions. It returns an enumerate object. In our case that object is a list of tuples (immutable lists), each containing a pair of count/index and value. **"
   ]
  },
  {
   "cell_type": "markdown",
   "metadata": {},
   "source": [
    "**Create a List of Strings**"
   ]
  },
  {
   "cell_type": "code",
   "execution_count": 1,
   "metadata": {
    "collapsed": false
   },
   "outputs": [
    {
     "data": {
      "text/plain": [
       "['One', 'Two', 'Three', 'Four', 'Five']"
      ]
     },
     "execution_count": 1,
     "metadata": {},
     "output_type": "execute_result"
    }
   ],
   "source": [
    "data = ['One','Two','Three','Four','Five']\n",
    "data"
   ]
  },
  {
   "cell_type": "code",
   "execution_count": 6,
   "metadata": {
    "collapsed": false
   },
   "outputs": [
    {
     "name": "stdout",
     "output_type": "stream",
     "text": [
      "(0, 'One')\n",
      "0\n",
      "One\n",
      "(1, 'Two')\n",
      "1\n",
      "Two\n",
      "(2, 'Three')\n",
      "2\n",
      "Three\n",
      "(3, 'Four')\n",
      "3\n",
      "Four\n",
      "(4, 'Five')\n",
      "4\n",
      "Five\n"
     ]
    }
   ],
   "source": [
    "#For each item in the enumerated variable data\n",
    "for item in enumerate(data):\n",
    "    #Print the whole enumerated element\n",
    "    print(item)\n",
    "    #Print only the index number, not the value\n",
    "    print(item[0])\n",
    "    #Print only the value, not the index number\n",
    "    print(item[1])"
   ]
  },
  {
   "cell_type": "code",
   "execution_count": null,
   "metadata": {
    "collapsed": true
   },
   "outputs": [],
   "source": []
  }
 ],
 "metadata": {
  "kernelspec": {
   "display_name": "Python [conda env:py35]",
   "language": "python",
   "name": "conda-env-py35-py"
  },
  "language_info": {
   "codemirror_mode": {
    "name": "ipython",
    "version": 3
   },
   "file_extension": ".py",
   "mimetype": "text/x-python",
   "name": "python",
   "nbconvert_exporter": "python",
   "pygments_lexer": "ipython3",
   "version": "3.5.2"
  }
 },
 "nbformat": 4,
 "nbformat_minor": 1
}
