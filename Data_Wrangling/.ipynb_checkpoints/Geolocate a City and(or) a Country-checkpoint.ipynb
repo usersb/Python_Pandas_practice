{
 "cells": [
  {
   "cell_type": "markdown",
   "metadata": {},
   "source": [
    "**Geolocate a City and / or a Country**\n",
    "\n",
    "https://chrisalbon.com/python/data_wrangling/geolocate_a_city_or_country/"
   ]
  },
  {
   "cell_type": "markdown",
   "metadata": {},
   "source": [
    "This tutorial creates a function that attempts to take a city and country and return its latitude and longitude. But when the city is unavailable (which is often be the case), the returns the latitude and longitude of the center of the country."
   ]
  },
  {
   "cell_type": "markdown",
   "metadata": {},
   "source": [
    "**Preliminaries**"
   ]
  },
  {
   "cell_type": "code",
   "execution_count": 2,
   "metadata": {
    "collapsed": true
   },
   "outputs": [],
   "source": [
    "from geopy.geocoders import Nominatim\n",
    "geolocator = Nominatim()\n",
    "import numpy as np"
   ]
  },
  {
   "cell_type": "markdown",
   "metadata": {},
   "source": [
    "**Create Geolocation Function**"
   ]
  },
  {
   "cell_type": "code",
   "execution_count": 3,
   "metadata": {
    "collapsed": true
   },
   "outputs": [],
   "source": [
    "def geolocate(city = \"None\", country = \"None\"):\n",
    "    '''\n",
    "    Inputs city and country, or just country. Returns the lat/long coordinates of \n",
    "    either the city if possible, if not, then returns lat/long of the center of the country.\n",
    "    '''\n",
    "    \n",
    "    # If the city exists,\n",
    "    if city != None:\n",
    "        try:\n",
    "            #Geolocate the city and country\n",
    "            loc = geolocator.geocode(str(city + ',' + country))\n",
    "            # And return latitude and longitude\n",
    "            return(loc.latitude, loc.longitude)\n",
    "        except:\n",
    "            # Return missing value\n",
    "            return(np.nan)\n",
    "    # If the city doesn't exist,    \n",
    "    else:\n",
    "        try:\n",
    "            # Geolocate the center of the country\n",
    "            loc = geolocator.geocode(country)\n",
    "            # And return latitude and longitude\n",
    "            return(loc.latitude, loc.longitude)\n",
    "        except:\n",
    "            # Return missing value\n",
    "            return(np.nan)"
   ]
  },
  {
   "cell_type": "markdown",
   "metadata": {},
   "source": [
    "**Geolocate a City and Country**"
   ]
  },
  {
   "cell_type": "code",
   "execution_count": 4,
   "metadata": {
    "collapsed": false
   },
   "outputs": [
    {
     "data": {
      "text/plain": [
       "(30.2711286, -97.7436995)"
      ]
     },
     "execution_count": 4,
     "metadata": {},
     "output_type": "execute_result"
    }
   ],
   "source": [
    "# Geolocate a city and country\n",
    "geolocate(city='Austin', country='USA')"
   ]
  },
  {
   "cell_type": "markdown",
   "metadata": {},
   "source": [
    "**Geolocate a Country**"
   ]
  },
  {
   "cell_type": "code",
   "execution_count": 5,
   "metadata": {
    "collapsed": false
   },
   "outputs": [
    {
     "data": {
      "text/plain": [
       "(56.670453, -132.6560181)"
      ]
     },
     "execution_count": 5,
     "metadata": {},
     "output_type": "execute_result"
    }
   ],
   "source": [
    "#Geolocate just a country\n",
    "geolocate(country='USA')"
   ]
  },
  {
   "cell_type": "code",
   "execution_count": null,
   "metadata": {
    "collapsed": true
   },
   "outputs": [],
   "source": []
  }
 ],
 "metadata": {
  "kernelspec": {
   "display_name": "Python [conda env:py35]",
   "language": "python",
   "name": "conda-env-py35-py"
  },
  "language_info": {
   "codemirror_mode": {
    "name": "ipython",
    "version": 3
   },
   "file_extension": ".py",
   "mimetype": "text/x-python",
   "name": "python",
   "nbconvert_exporter": "python",
   "pygments_lexer": "ipython3",
   "version": "3.5.2"
  }
 },
 "nbformat": 4,
 "nbformat_minor": 1
}
