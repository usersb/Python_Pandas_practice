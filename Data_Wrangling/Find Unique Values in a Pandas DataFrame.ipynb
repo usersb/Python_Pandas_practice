{
 "cells": [
  {
   "cell_type": "markdown",
   "metadata": {},
   "source": [
    "**Find Unique Values in a Pandas DataFrame**\n",
    "\n",
    "https://chrisalbon.com/python/data_wrangling/pandas_find_unique_values/"
   ]
  },
  {
   "cell_type": "code",
   "execution_count": 2,
   "metadata": {
    "collapsed": true
   },
   "outputs": [],
   "source": [
    "import pandas as pd\n",
    "import numpy as np"
   ]
  },
  {
   "cell_type": "markdown",
   "metadata": {},
   "source": [
    "**Create DataFrame**"
   ]
  },
  {
   "cell_type": "code",
   "execution_count": 3,
   "metadata": {
    "collapsed": false
   },
   "outputs": [
    {
     "data": {
      "text/html": [
       "<div>\n",
       "<table border=\"1\" class=\"dataframe\">\n",
       "  <thead>\n",
       "    <tr style=\"text-align: right;\">\n",
       "      <th></th>\n",
       "      <th>regiment</th>\n",
       "      <th>trucks</th>\n",
       "      <th>tanks</th>\n",
       "      <th>aircraft</th>\n",
       "    </tr>\n",
       "  </thead>\n",
       "  <tbody>\n",
       "    <tr>\n",
       "      <th>0</th>\n",
       "      <td>51st</td>\n",
       "      <td>MAZ-7310</td>\n",
       "      <td>Merkava Mark 4</td>\n",
       "      <td>none</td>\n",
       "    </tr>\n",
       "    <tr>\n",
       "      <th>1</th>\n",
       "      <td>29th</td>\n",
       "      <td>NaN</td>\n",
       "      <td>Merkava Mark 4</td>\n",
       "      <td>none</td>\n",
       "    </tr>\n",
       "    <tr>\n",
       "      <th>2</th>\n",
       "      <td>2nd</td>\n",
       "      <td>MAZ-7310</td>\n",
       "      <td>Merkava Mark 4</td>\n",
       "      <td>none</td>\n",
       "    </tr>\n",
       "    <tr>\n",
       "      <th>3</th>\n",
       "      <td>19th</td>\n",
       "      <td>MAZ-7310</td>\n",
       "      <td>Leopard 2A6M</td>\n",
       "      <td>Harbin Z-9</td>\n",
       "    </tr>\n",
       "    <tr>\n",
       "      <th>4</th>\n",
       "      <td>12th</td>\n",
       "      <td>Tatra 810</td>\n",
       "      <td>Leopard 2A6M</td>\n",
       "      <td>Harbin Z-9</td>\n",
       "    </tr>\n",
       "    <tr>\n",
       "      <th>5</th>\n",
       "      <td>101st</td>\n",
       "      <td>Tatra 810</td>\n",
       "      <td>Leopard 2A6M</td>\n",
       "      <td>none</td>\n",
       "    </tr>\n",
       "    <tr>\n",
       "      <th>6</th>\n",
       "      <td>90th</td>\n",
       "      <td>Tatra 810</td>\n",
       "      <td>Arjun MBT</td>\n",
       "      <td>Harbin Z-9</td>\n",
       "    </tr>\n",
       "    <tr>\n",
       "      <th>7</th>\n",
       "      <td>30th</td>\n",
       "      <td>Tatra 810</td>\n",
       "      <td>Leopard 2A6M</td>\n",
       "      <td>SH-60B Seahawk</td>\n",
       "    </tr>\n",
       "    <tr>\n",
       "      <th>8</th>\n",
       "      <td>193th</td>\n",
       "      <td>ZIS-150</td>\n",
       "      <td>Arjun MBT</td>\n",
       "      <td>SH-60B Seahawk</td>\n",
       "    </tr>\n",
       "    <tr>\n",
       "      <th>9</th>\n",
       "      <td>1st</td>\n",
       "      <td>Tatra 810</td>\n",
       "      <td>Arjun MBT</td>\n",
       "      <td>SH-60B Seahawk</td>\n",
       "    </tr>\n",
       "    <tr>\n",
       "      <th>10</th>\n",
       "      <td>94th</td>\n",
       "      <td>ZIS-150</td>\n",
       "      <td>Arjun MBT</td>\n",
       "      <td>SH-60B Seahawk</td>\n",
       "    </tr>\n",
       "    <tr>\n",
       "      <th>11</th>\n",
       "      <td>91th</td>\n",
       "      <td>ZIS-150</td>\n",
       "      <td>Arjun MBT</td>\n",
       "      <td>SH-60B Seahawk</td>\n",
       "    </tr>\n",
       "  </tbody>\n",
       "</table>\n",
       "</div>"
      ],
      "text/plain": [
       "   regiment     trucks           tanks        aircraft\n",
       "0      51st   MAZ-7310  Merkava Mark 4            none\n",
       "1      29th        NaN  Merkava Mark 4            none\n",
       "2       2nd   MAZ-7310  Merkava Mark 4            none\n",
       "3      19th   MAZ-7310    Leopard 2A6M      Harbin Z-9\n",
       "4      12th  Tatra 810    Leopard 2A6M      Harbin Z-9\n",
       "5     101st  Tatra 810    Leopard 2A6M            none\n",
       "6      90th  Tatra 810       Arjun MBT      Harbin Z-9\n",
       "7      30th  Tatra 810    Leopard 2A6M  SH-60B Seahawk\n",
       "8     193th    ZIS-150       Arjun MBT  SH-60B Seahawk\n",
       "9       1st  Tatra 810       Arjun MBT  SH-60B Seahawk\n",
       "10     94th    ZIS-150       Arjun MBT  SH-60B Seahawk\n",
       "11     91th    ZIS-150       Arjun MBT  SH-60B Seahawk"
      ]
     },
     "execution_count": 3,
     "metadata": {},
     "output_type": "execute_result"
    }
   ],
   "source": [
    "raw_data = {'regiment': ['51st', '29th', '2nd', '19th', '12th', '101st', '90th', '30th', '193th', '1st', '94th', '91th'], \n",
    "            'trucks': ['MAZ-7310', np.nan, 'MAZ-7310', 'MAZ-7310', 'Tatra 810', 'Tatra 810', 'Tatra 810', 'Tatra 810', 'ZIS-150', 'Tatra 810', 'ZIS-150', 'ZIS-150'],\n",
    "            'tanks': ['Merkava Mark 4', 'Merkava Mark 4', 'Merkava Mark 4', 'Leopard 2A6M', 'Leopard 2A6M', 'Leopard 2A6M', 'Arjun MBT', 'Leopard 2A6M', 'Arjun MBT', 'Arjun MBT', 'Arjun MBT', 'Arjun MBT'],\n",
    "            'aircraft': ['none', 'none', 'none', 'Harbin Z-9', 'Harbin Z-9', 'none', 'Harbin Z-9', 'SH-60B Seahawk', 'SH-60B Seahawk', 'SH-60B Seahawk', 'SH-60B Seahawk', 'SH-60B Seahawk']}\n",
    "\n",
    "df = pd.DataFrame(raw_data, columns = ['regiment', 'trucks', 'tanks', 'aircraft'])\n",
    "df"
   ]
  },
  {
   "cell_type": "markdown",
   "metadata": {},
   "source": [
    "**Create a List of Unique Values by turning the pandas column into a set**"
   ]
  },
  {
   "cell_type": "code",
   "execution_count": 4,
   "metadata": {
    "collapsed": false
   },
   "outputs": [
    {
     "data": {
      "text/plain": [
       "[nan, 'MAZ-7310', 'Tatra 810', 'ZIS-150']"
      ]
     },
     "execution_count": 4,
     "metadata": {},
     "output_type": "execute_result"
    }
   ],
   "source": [
    "list(set(df['trucks']))"
   ]
  },
  {
   "cell_type": "markdown",
   "metadata": {},
   "source": [
    "**Create a List of Unique Values by using the unique() function**"
   ]
  },
  {
   "cell_type": "code",
   "execution_count": 5,
   "metadata": {
    "collapsed": false
   },
   "outputs": [
    {
     "data": {
      "text/plain": [
       "['MAZ-7310', nan, 'Tatra 810', 'ZIS-150']"
      ]
     },
     "execution_count": 5,
     "metadata": {},
     "output_type": "execute_result"
    }
   ],
   "source": [
    "list(df['trucks'].unique())"
   ]
  },
  {
   "cell_type": "code",
   "execution_count": 6,
   "metadata": {
    "collapsed": false
   },
   "outputs": [
    {
     "data": {
      "text/plain": [
       "array(['MAZ-7310', nan, 'Tatra 810', 'ZIS-150'], dtype=object)"
      ]
     },
     "execution_count": 6,
     "metadata": {},
     "output_type": "execute_result"
    }
   ],
   "source": [
    "df.trucks.unique()"
   ]
  },
  {
   "cell_type": "code",
   "execution_count": null,
   "metadata": {
    "collapsed": true
   },
   "outputs": [],
   "source": []
  }
 ],
 "metadata": {
  "kernelspec": {
   "display_name": "Python [conda env:py35]",
   "language": "python",
   "name": "conda-env-py35-py"
  },
  "language_info": {
   "codemirror_mode": {
    "name": "ipython",
    "version": 3
   },
   "file_extension": ".py",
   "mimetype": "text/x-python",
   "name": "python",
   "nbconvert_exporter": "python",
   "pygments_lexer": "ipython3",
   "version": "3.5.2"
  }
 },
 "nbformat": 4,
 "nbformat_minor": 1
}
