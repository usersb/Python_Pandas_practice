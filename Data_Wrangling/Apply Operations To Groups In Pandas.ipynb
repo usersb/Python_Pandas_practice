{
 "cells": [
  {
   "cell_type": "markdown",
   "metadata": {},
   "source": [
    "**Apply Operations to Groups in Pandas**\n",
    "\n",
    "https://chrisalbon.com/python/data_wrangling/pandas_apply_operations_to_groups/"
   ]
  },
  {
   "cell_type": "markdown",
   "metadata": {},
   "source": [
    "**Preliminaries**"
   ]
  },
  {
   "cell_type": "code",
   "execution_count": 1,
   "metadata": {
    "collapsed": true
   },
   "outputs": [],
   "source": [
    "import pandas as pd"
   ]
  },
  {
   "cell_type": "code",
   "execution_count": 3,
   "metadata": {
    "collapsed": false
   },
   "outputs": [
    {
     "data": {
      "text/html": [
       "<div>\n",
       "<table border=\"1\" class=\"dataframe\">\n",
       "  <thead>\n",
       "    <tr style=\"text-align: right;\">\n",
       "      <th></th>\n",
       "      <th>regiment</th>\n",
       "      <th>company</th>\n",
       "      <th>name</th>\n",
       "      <th>preTestScore</th>\n",
       "      <th>postTestScore</th>\n",
       "    </tr>\n",
       "  </thead>\n",
       "  <tbody>\n",
       "    <tr>\n",
       "      <th>0</th>\n",
       "      <td>Nighthawks</td>\n",
       "      <td>1st</td>\n",
       "      <td>Miller</td>\n",
       "      <td>4</td>\n",
       "      <td>25</td>\n",
       "    </tr>\n",
       "    <tr>\n",
       "      <th>1</th>\n",
       "      <td>Nighthawks</td>\n",
       "      <td>1st</td>\n",
       "      <td>Jacobson</td>\n",
       "      <td>24</td>\n",
       "      <td>94</td>\n",
       "    </tr>\n",
       "    <tr>\n",
       "      <th>2</th>\n",
       "      <td>Nighthawks</td>\n",
       "      <td>2nd</td>\n",
       "      <td>Ali</td>\n",
       "      <td>31</td>\n",
       "      <td>57</td>\n",
       "    </tr>\n",
       "    <tr>\n",
       "      <th>3</th>\n",
       "      <td>Nighthawks</td>\n",
       "      <td>2nd</td>\n",
       "      <td>Milner</td>\n",
       "      <td>2</td>\n",
       "      <td>62</td>\n",
       "    </tr>\n",
       "    <tr>\n",
       "      <th>4</th>\n",
       "      <td>Dragoons</td>\n",
       "      <td>1st</td>\n",
       "      <td>Cooze</td>\n",
       "      <td>3</td>\n",
       "      <td>70</td>\n",
       "    </tr>\n",
       "    <tr>\n",
       "      <th>5</th>\n",
       "      <td>Dragoons</td>\n",
       "      <td>1st</td>\n",
       "      <td>Jacon</td>\n",
       "      <td>4</td>\n",
       "      <td>25</td>\n",
       "    </tr>\n",
       "    <tr>\n",
       "      <th>6</th>\n",
       "      <td>Dragoons</td>\n",
       "      <td>2nd</td>\n",
       "      <td>Ryaner</td>\n",
       "      <td>24</td>\n",
       "      <td>94</td>\n",
       "    </tr>\n",
       "    <tr>\n",
       "      <th>7</th>\n",
       "      <td>Dragoons</td>\n",
       "      <td>2nd</td>\n",
       "      <td>Sone</td>\n",
       "      <td>31</td>\n",
       "      <td>57</td>\n",
       "    </tr>\n",
       "    <tr>\n",
       "      <th>8</th>\n",
       "      <td>Scouts</td>\n",
       "      <td>1st</td>\n",
       "      <td>Sloan</td>\n",
       "      <td>2</td>\n",
       "      <td>62</td>\n",
       "    </tr>\n",
       "    <tr>\n",
       "      <th>9</th>\n",
       "      <td>Scouts</td>\n",
       "      <td>1st</td>\n",
       "      <td>Piger</td>\n",
       "      <td>3</td>\n",
       "      <td>70</td>\n",
       "    </tr>\n",
       "    <tr>\n",
       "      <th>10</th>\n",
       "      <td>Scouts</td>\n",
       "      <td>2nd</td>\n",
       "      <td>Riani</td>\n",
       "      <td>2</td>\n",
       "      <td>62</td>\n",
       "    </tr>\n",
       "    <tr>\n",
       "      <th>11</th>\n",
       "      <td>Scouts</td>\n",
       "      <td>2nd</td>\n",
       "      <td>Ali</td>\n",
       "      <td>3</td>\n",
       "      <td>70</td>\n",
       "    </tr>\n",
       "  </tbody>\n",
       "</table>\n",
       "</div>"
      ],
      "text/plain": [
       "      regiment company      name  preTestScore  postTestScore\n",
       "0   Nighthawks     1st    Miller             4             25\n",
       "1   Nighthawks     1st  Jacobson            24             94\n",
       "2   Nighthawks     2nd       Ali            31             57\n",
       "3   Nighthawks     2nd    Milner             2             62\n",
       "4     Dragoons     1st     Cooze             3             70\n",
       "5     Dragoons     1st     Jacon             4             25\n",
       "6     Dragoons     2nd    Ryaner            24             94\n",
       "7     Dragoons     2nd      Sone            31             57\n",
       "8       Scouts     1st     Sloan             2             62\n",
       "9       Scouts     1st     Piger             3             70\n",
       "10      Scouts     2nd     Riani             2             62\n",
       "11      Scouts     2nd       Ali             3             70"
      ]
     },
     "execution_count": 3,
     "metadata": {},
     "output_type": "execute_result"
    }
   ],
   "source": [
    "# Create dataframe\n",
    "raw_data = {'regiment': ['Nighthawks', 'Nighthawks', 'Nighthawks', 'Nighthawks', 'Dragoons', 'Dragoons', 'Dragoons', 'Dragoons', 'Scouts', 'Scouts', 'Scouts', 'Scouts'], \n",
    "        'company': ['1st', '1st', '2nd', '2nd', '1st', '1st', '2nd', '2nd','1st', '1st', '2nd', '2nd'], \n",
    "        'name': ['Miller', 'Jacobson', 'Ali', 'Milner', 'Cooze', 'Jacon', 'Ryaner', 'Sone', 'Sloan', 'Piger', 'Riani', 'Ali'], \n",
    "        'preTestScore': [4, 24, 31, 2, 3, 4, 24, 31, 2, 3, 2, 3],\n",
    "        'postTestScore': [25, 94, 57, 62, 70, 25, 94, 57, 62, 70, 62, 70]}\n",
    "\n",
    "df = pd.DataFrame(raw_data, columns = ['regiment','company','name','preTestScore','postTestScore'])\n",
    "df"
   ]
  },
  {
   "cell_type": "markdown",
   "metadata": {},
   "source": [
    "**Create a Groupby variable that groups preTestScores by regiment**"
   ]
  },
  {
   "cell_type": "code",
   "execution_count": 10,
   "metadata": {
    "collapsed": false
   },
   "outputs": [
    {
     "data": {
      "text/plain": [
       "<pandas.core.groupby.SeriesGroupBy object at 0x10c4b70b8>"
      ]
     },
     "execution_count": 10,
     "metadata": {},
     "output_type": "execute_result"
    }
   ],
   "source": [
    "group_regiment = df['preTestScore'].groupby(df['regiment'])\n",
    "group_regiment"
   ]
  },
  {
   "cell_type": "markdown",
   "metadata": {},
   "source": [
    "This Group variable is now a Group by object. It has not actually computed anything yet except for some intermediate data about the group key df['key1'].The idea is that this object has all the information needed to then apply some operation to each of the groups."
   ]
  },
  {
   "cell_type": "markdown",
   "metadata": {},
   "source": [
    "**View a grouping**"
   ]
  },
  {
   "cell_type": "code",
   "execution_count": 12,
   "metadata": {
    "collapsed": false
   },
   "outputs": [
    {
     "data": {
      "text/plain": [
       "[('Dragoons', 4     3\n",
       "  5     4\n",
       "  6    24\n",
       "  7    31\n",
       "  Name: preTestScore, dtype: int64), ('Nighthawks', 0     4\n",
       "  1    24\n",
       "  2    31\n",
       "  3     2\n",
       "  Name: preTestScore, dtype: int64), ('Scouts', 8     2\n",
       "  9     3\n",
       "  10    2\n",
       "  11    3\n",
       "  Name: preTestScore, dtype: int64)]"
      ]
     },
     "execution_count": 12,
     "metadata": {},
     "output_type": "execute_result"
    }
   ],
   "source": [
    "#Use list to show what a grouping looks like.\n",
    "\n",
    "list(group_regiment)"
   ]
  },
  {
   "cell_type": "markdown",
   "metadata": {},
   "source": [
    "**Descriptive Statistics by group**"
   ]
  },
  {
   "cell_type": "code",
   "execution_count": 13,
   "metadata": {
    "collapsed": false
   },
   "outputs": [
    {
     "data": {
      "text/plain": [
       "regiment         \n",
       "Dragoons    count     4.000000\n",
       "            mean     15.500000\n",
       "            std      14.153916\n",
       "            min       3.000000\n",
       "            25%       3.750000\n",
       "            50%      14.000000\n",
       "            75%      25.750000\n",
       "            max      31.000000\n",
       "Nighthawks  count     4.000000\n",
       "            mean     15.250000\n",
       "            std      14.453950\n",
       "            min       2.000000\n",
       "            25%       3.500000\n",
       "            50%      14.000000\n",
       "            75%      25.750000\n",
       "            max      31.000000\n",
       "Scouts      count     4.000000\n",
       "            mean      2.500000\n",
       "            std       0.577350\n",
       "            min       2.000000\n",
       "            25%       2.000000\n",
       "            50%       2.500000\n",
       "            75%       3.000000\n",
       "            max       3.000000\n",
       "Name: preTestScore, dtype: float64"
      ]
     },
     "execution_count": 13,
     "metadata": {},
     "output_type": "execute_result"
    }
   ],
   "source": [
    "df['preTestScore'].groupby(df['regiment']).describe()"
   ]
  },
  {
   "cell_type": "markdown",
   "metadata": {},
   "source": [
    " **Mean of each regiment's preTestScore**"
   ]
  },
  {
   "cell_type": "code",
   "execution_count": 15,
   "metadata": {
    "collapsed": false
   },
   "outputs": [
    {
     "data": {
      "text/plain": [
       "regiment\n",
       "Dragoons      15.50\n",
       "Nighthawks    15.25\n",
       "Scouts         2.50\n",
       "Name: preTestScore, dtype: float64"
      ]
     },
     "execution_count": 15,
     "metadata": {},
     "output_type": "execute_result"
    }
   ],
   "source": [
    "group_regiment.mean()"
   ]
  },
  {
   "cell_type": "markdown",
   "metadata": {},
   "source": [
    "**Mean preTestScores grouped by regiment and company**"
   ]
  },
  {
   "cell_type": "code",
   "execution_count": 21,
   "metadata": {
    "collapsed": false
   },
   "outputs": [
    {
     "data": {
      "text/plain": [
       "regiment    company\n",
       "Dragoons    1st         3.5\n",
       "            2nd        27.5\n",
       "Nighthawks  1st        14.0\n",
       "            2nd        16.5\n",
       "Scouts      1st         2.5\n",
       "            2nd         2.5\n",
       "Name: preTestScore, dtype: float64"
      ]
     },
     "execution_count": 21,
     "metadata": {},
     "output_type": "execute_result"
    }
   ],
   "source": [
    "df['preTestScore'].groupby([df['regiment'],df['company']]).mean()"
   ]
  },
  {
   "cell_type": "markdown",
   "metadata": {},
   "source": [
    "**Mean preTestScores grouped by regiment and company without hierarchical index**"
   ]
  },
  {
   "cell_type": "code",
   "execution_count": 22,
   "metadata": {
    "collapsed": false
   },
   "outputs": [
    {
     "data": {
      "text/html": [
       "<div>\n",
       "<table border=\"1\" class=\"dataframe\">\n",
       "  <thead>\n",
       "    <tr style=\"text-align: right;\">\n",
       "      <th>company</th>\n",
       "      <th>1st</th>\n",
       "      <th>2nd</th>\n",
       "    </tr>\n",
       "    <tr>\n",
       "      <th>regiment</th>\n",
       "      <th></th>\n",
       "      <th></th>\n",
       "    </tr>\n",
       "  </thead>\n",
       "  <tbody>\n",
       "    <tr>\n",
       "      <th>Dragoons</th>\n",
       "      <td>3.5</td>\n",
       "      <td>27.5</td>\n",
       "    </tr>\n",
       "    <tr>\n",
       "      <th>Nighthawks</th>\n",
       "      <td>14.0</td>\n",
       "      <td>16.5</td>\n",
       "    </tr>\n",
       "    <tr>\n",
       "      <th>Scouts</th>\n",
       "      <td>2.5</td>\n",
       "      <td>2.5</td>\n",
       "    </tr>\n",
       "  </tbody>\n",
       "</table>\n",
       "</div>"
      ],
      "text/plain": [
       "company      1st   2nd\n",
       "regiment              \n",
       "Dragoons     3.5  27.5\n",
       "Nighthawks  14.0  16.5\n",
       "Scouts       2.5   2.5"
      ]
     },
     "execution_count": 22,
     "metadata": {},
     "output_type": "execute_result"
    }
   ],
   "source": [
    "df['preTestScore'].groupby([df['regiment'],df['company']]).mean().unstack()"
   ]
  },
  {
   "cell_type": "markdown",
   "metadata": {},
   "source": [
    "**Group the entire dataframe by regiment and company**"
   ]
  },
  {
   "cell_type": "code",
   "execution_count": 25,
   "metadata": {
    "collapsed": false
   },
   "outputs": [
    {
     "data": {
      "text/html": [
       "<div>\n",
       "<table border=\"1\" class=\"dataframe\">\n",
       "  <thead>\n",
       "    <tr style=\"text-align: right;\">\n",
       "      <th></th>\n",
       "      <th></th>\n",
       "      <th>preTestScore</th>\n",
       "      <th>postTestScore</th>\n",
       "    </tr>\n",
       "    <tr>\n",
       "      <th>regiment</th>\n",
       "      <th>company</th>\n",
       "      <th></th>\n",
       "      <th></th>\n",
       "    </tr>\n",
       "  </thead>\n",
       "  <tbody>\n",
       "    <tr>\n",
       "      <th rowspan=\"2\" valign=\"top\">Dragoons</th>\n",
       "      <th>1st</th>\n",
       "      <td>3.5</td>\n",
       "      <td>47.5</td>\n",
       "    </tr>\n",
       "    <tr>\n",
       "      <th>2nd</th>\n",
       "      <td>27.5</td>\n",
       "      <td>75.5</td>\n",
       "    </tr>\n",
       "    <tr>\n",
       "      <th rowspan=\"2\" valign=\"top\">Nighthawks</th>\n",
       "      <th>1st</th>\n",
       "      <td>14.0</td>\n",
       "      <td>59.5</td>\n",
       "    </tr>\n",
       "    <tr>\n",
       "      <th>2nd</th>\n",
       "      <td>16.5</td>\n",
       "      <td>59.5</td>\n",
       "    </tr>\n",
       "    <tr>\n",
       "      <th rowspan=\"2\" valign=\"top\">Scouts</th>\n",
       "      <th>1st</th>\n",
       "      <td>2.5</td>\n",
       "      <td>66.0</td>\n",
       "    </tr>\n",
       "    <tr>\n",
       "      <th>2nd</th>\n",
       "      <td>2.5</td>\n",
       "      <td>66.0</td>\n",
       "    </tr>\n",
       "  </tbody>\n",
       "</table>\n",
       "</div>"
      ],
      "text/plain": [
       "                    preTestScore  postTestScore\n",
       "regiment   company                             \n",
       "Dragoons   1st               3.5           47.5\n",
       "           2nd              27.5           75.5\n",
       "Nighthawks 1st              14.0           59.5\n",
       "           2nd              16.5           59.5\n",
       "Scouts     1st               2.5           66.0\n",
       "           2nd               2.5           66.0"
      ]
     },
     "execution_count": 25,
     "metadata": {},
     "output_type": "execute_result"
    }
   ],
   "source": [
    "df.groupby([df['regiment'],df['company']]).mean()"
   ]
  },
  {
   "cell_type": "markdown",
   "metadata": {},
   "source": [
    "**Number of observations in each regiment and company**"
   ]
  },
  {
   "cell_type": "code",
   "execution_count": 29,
   "metadata": {
    "collapsed": false
   },
   "outputs": [
    {
     "data": {
      "text/plain": [
       "regiment    company\n",
       "Dragoons    1st        2\n",
       "            2nd        2\n",
       "Nighthawks  1st        2\n",
       "            2nd        2\n",
       "Scouts      1st        2\n",
       "            2nd        2\n",
       "dtype: int64"
      ]
     },
     "execution_count": 29,
     "metadata": {},
     "output_type": "execute_result"
    }
   ],
   "source": [
    "df.groupby([df['regiment'],df['company']]).size()"
   ]
  },
  {
   "cell_type": "markdown",
   "metadata": {},
   "source": [
    "**Iterate an operation over groups**"
   ]
  },
  {
   "cell_type": "code",
   "execution_count": 31,
   "metadata": {
    "collapsed": false
   },
   "outputs": [
    {
     "data": {
      "text/plain": [
       "[('Dragoons',    regiment company    name  preTestScore  postTestScore\n",
       "  4  Dragoons     1st   Cooze             3             70\n",
       "  5  Dragoons     1st   Jacon             4             25\n",
       "  6  Dragoons     2nd  Ryaner            24             94\n",
       "  7  Dragoons     2nd    Sone            31             57),\n",
       " ('Nighthawks',      regiment company      name  preTestScore  postTestScore\n",
       "  0  Nighthawks     1st    Miller             4             25\n",
       "  1  Nighthawks     1st  Jacobson            24             94\n",
       "  2  Nighthawks     2nd       Ali            31             57\n",
       "  3  Nighthawks     2nd    Milner             2             62),\n",
       " ('Scouts',    regiment company   name  preTestScore  postTestScore\n",
       "  8    Scouts     1st  Sloan             2             62\n",
       "  9    Scouts     1st  Piger             3             70\n",
       "  10   Scouts     2nd  Riani             2             62\n",
       "  11   Scouts     2nd    Ali             3             70)]"
      ]
     },
     "execution_count": 31,
     "metadata": {},
     "output_type": "execute_result"
    }
   ],
   "source": [
    "list(df.groupby(df['regiment']))"
   ]
  },
  {
   "cell_type": "code",
   "execution_count": 34,
   "metadata": {
    "collapsed": false
   },
   "outputs": [
    {
     "name": "stdout",
     "output_type": "stream",
     "text": [
      "Dragoons\n",
      "   regiment company    name  preTestScore  postTestScore\n",
      "4  Dragoons     1st   Cooze             3             70\n",
      "5  Dragoons     1st   Jacon             4             25\n",
      "6  Dragoons     2nd  Ryaner            24             94\n",
      "7  Dragoons     2nd    Sone            31             57\n",
      "Nighthawks\n",
      "     regiment company      name  preTestScore  postTestScore\n",
      "0  Nighthawks     1st    Miller             4             25\n",
      "1  Nighthawks     1st  Jacobson            24             94\n",
      "2  Nighthawks     2nd       Ali            31             57\n",
      "3  Nighthawks     2nd    Milner             2             62\n",
      "Scouts\n",
      "   regiment company   name  preTestScore  postTestScore\n",
      "8    Scouts     1st  Sloan             2             62\n",
      "9    Scouts     1st  Piger             3             70\n",
      "10   Scouts     2nd  Riani             2             62\n",
      "11   Scouts     2nd    Ali             3             70\n"
     ]
    }
   ],
   "source": [
    "# Group the dataframe by regiment, and for each regiment,\n",
    "for name,group in df.groupby(df['regiment']):\n",
    "    # print the name of the regiment\n",
    "    print(name)\n",
    "    # print the data of that regiment\n",
    "    print(group)"
   ]
  },
  {
   "cell_type": "markdown",
   "metadata": {},
   "source": [
    "**Group By Columns**"
   ]
  },
  {
   "cell_type": "markdown",
   "metadata": {},
   "source": [
    "Specifically in this case; group by the data types of the columns (i.e axis =1) and then use the list() to view what that grouping looks like."
   ]
  },
  {
   "cell_type": "code",
   "execution_count": 35,
   "metadata": {
    "collapsed": false
   },
   "outputs": [
    {
     "data": {
      "text/plain": [
       "[(dtype('int64'),     preTestScore  postTestScore\n",
       "  0              4             25\n",
       "  1             24             94\n",
       "  2             31             57\n",
       "  3              2             62\n",
       "  4              3             70\n",
       "  5              4             25\n",
       "  6             24             94\n",
       "  7             31             57\n",
       "  8              2             62\n",
       "  9              3             70\n",
       "  10             2             62\n",
       "  11             3             70),\n",
       " (dtype('O'),       regiment company      name\n",
       "  0   Nighthawks     1st    Miller\n",
       "  1   Nighthawks     1st  Jacobson\n",
       "  2   Nighthawks     2nd       Ali\n",
       "  3   Nighthawks     2nd    Milner\n",
       "  4     Dragoons     1st     Cooze\n",
       "  5     Dragoons     1st     Jacon\n",
       "  6     Dragoons     2nd    Ryaner\n",
       "  7     Dragoons     2nd      Sone\n",
       "  8       Scouts     1st     Sloan\n",
       "  9       Scouts     1st     Piger\n",
       "  10      Scouts     2nd     Riani\n",
       "  11      Scouts     2nd       Ali)]"
      ]
     },
     "execution_count": 35,
     "metadata": {},
     "output_type": "execute_result"
    }
   ],
   "source": [
    "list(df.groupby(df.dtypes,axis=1))"
   ]
  },
  {
   "cell_type": "markdown",
   "metadata": {},
   "source": [
    "**In the dataframe df, group by regiment, take the mean value of the other variables for those groups, then display them with the prefix 'mean'**"
   ]
  },
  {
   "cell_type": "code",
   "execution_count": 36,
   "metadata": {
    "collapsed": false
   },
   "outputs": [
    {
     "data": {
      "text/html": [
       "<div>\n",
       "<table border=\"1\" class=\"dataframe\">\n",
       "  <thead>\n",
       "    <tr style=\"text-align: right;\">\n",
       "      <th></th>\n",
       "      <th>mean_preTestScore</th>\n",
       "      <th>mean_postTestScore</th>\n",
       "    </tr>\n",
       "    <tr>\n",
       "      <th>regiment</th>\n",
       "      <th></th>\n",
       "      <th></th>\n",
       "    </tr>\n",
       "  </thead>\n",
       "  <tbody>\n",
       "    <tr>\n",
       "      <th>Dragoons</th>\n",
       "      <td>15.50</td>\n",
       "      <td>61.5</td>\n",
       "    </tr>\n",
       "    <tr>\n",
       "      <th>Nighthawks</th>\n",
       "      <td>15.25</td>\n",
       "      <td>59.5</td>\n",
       "    </tr>\n",
       "    <tr>\n",
       "      <th>Scouts</th>\n",
       "      <td>2.50</td>\n",
       "      <td>66.0</td>\n",
       "    </tr>\n",
       "  </tbody>\n",
       "</table>\n",
       "</div>"
      ],
      "text/plain": [
       "            mean_preTestScore  mean_postTestScore\n",
       "regiment                                         \n",
       "Dragoons                15.50                61.5\n",
       "Nighthawks              15.25                59.5\n",
       "Scouts                   2.50                66.0"
      ]
     },
     "execution_count": 36,
     "metadata": {},
     "output_type": "execute_result"
    }
   ],
   "source": [
    "df.groupby(df['regiment']).mean().add_prefix('mean_')"
   ]
  },
  {
   "cell_type": "code",
   "execution_count": 37,
   "metadata": {
    "collapsed": false
   },
   "outputs": [
    {
     "data": {
      "text/html": [
       "<div>\n",
       "<table border=\"1\" class=\"dataframe\">\n",
       "  <thead>\n",
       "    <tr style=\"text-align: right;\">\n",
       "      <th></th>\n",
       "      <th>sum_preTestScore</th>\n",
       "      <th>sum_postTestScore</th>\n",
       "    </tr>\n",
       "    <tr>\n",
       "      <th>regiment</th>\n",
       "      <th></th>\n",
       "      <th></th>\n",
       "    </tr>\n",
       "  </thead>\n",
       "  <tbody>\n",
       "    <tr>\n",
       "      <th>Dragoons</th>\n",
       "      <td>62</td>\n",
       "      <td>246</td>\n",
       "    </tr>\n",
       "    <tr>\n",
       "      <th>Nighthawks</th>\n",
       "      <td>61</td>\n",
       "      <td>238</td>\n",
       "    </tr>\n",
       "    <tr>\n",
       "      <th>Scouts</th>\n",
       "      <td>10</td>\n",
       "      <td>264</td>\n",
       "    </tr>\n",
       "  </tbody>\n",
       "</table>\n",
       "</div>"
      ],
      "text/plain": [
       "            sum_preTestScore  sum_postTestScore\n",
       "regiment                                       \n",
       "Dragoons                  62                246\n",
       "Nighthawks                61                238\n",
       "Scouts                    10                264"
      ]
     },
     "execution_count": 37,
     "metadata": {},
     "output_type": "execute_result"
    }
   ],
   "source": [
    "df.groupby(df['regiment']).sum().add_prefix('sum_')"
   ]
  },
  {
   "cell_type": "markdown",
   "metadata": {},
   "source": [
    "**Create a function to get the stats of a group**"
   ]
  },
  {
   "cell_type": "code",
   "execution_count": 38,
   "metadata": {
    "collapsed": true
   },
   "outputs": [],
   "source": [
    "def get_stats(group):\n",
    "    return {'min': group.min(), 'max': group.max(), 'count': group.count(), 'mean': group.mean()}"
   ]
  },
  {
   "cell_type": "markdown",
   "metadata": {},
   "source": [
    "**Create bins and bin up postTestScore by those bins**"
   ]
  },
  {
   "cell_type": "code",
   "execution_count": 43,
   "metadata": {
    "collapsed": false
   },
   "outputs": [
    {
     "data": {
      "text/html": [
       "<div>\n",
       "<table border=\"1\" class=\"dataframe\">\n",
       "  <thead>\n",
       "    <tr style=\"text-align: right;\">\n",
       "      <th></th>\n",
       "      <th>regiment</th>\n",
       "      <th>company</th>\n",
       "      <th>name</th>\n",
       "      <th>preTestScore</th>\n",
       "      <th>postTestScore</th>\n",
       "      <th>postTestScore_category</th>\n",
       "    </tr>\n",
       "  </thead>\n",
       "  <tbody>\n",
       "    <tr>\n",
       "      <th>0</th>\n",
       "      <td>Nighthawks</td>\n",
       "      <td>1st</td>\n",
       "      <td>Miller</td>\n",
       "      <td>4</td>\n",
       "      <td>25</td>\n",
       "      <td>Low</td>\n",
       "    </tr>\n",
       "    <tr>\n",
       "      <th>1</th>\n",
       "      <td>Nighthawks</td>\n",
       "      <td>1st</td>\n",
       "      <td>Jacobson</td>\n",
       "      <td>24</td>\n",
       "      <td>94</td>\n",
       "      <td>Great</td>\n",
       "    </tr>\n",
       "    <tr>\n",
       "      <th>2</th>\n",
       "      <td>Nighthawks</td>\n",
       "      <td>2nd</td>\n",
       "      <td>Ali</td>\n",
       "      <td>31</td>\n",
       "      <td>57</td>\n",
       "      <td>Good</td>\n",
       "    </tr>\n",
       "  </tbody>\n",
       "</table>\n",
       "</div>"
      ],
      "text/plain": [
       "     regiment company      name  preTestScore  postTestScore  \\\n",
       "0  Nighthawks     1st    Miller             4             25   \n",
       "1  Nighthawks     1st  Jacobson            24             94   \n",
       "2  Nighthawks     2nd       Ali            31             57   \n",
       "\n",
       "  postTestScore_category  \n",
       "0                    Low  \n",
       "1                  Great  \n",
       "2                   Good  "
      ]
     },
     "execution_count": 43,
     "metadata": {},
     "output_type": "execute_result"
    }
   ],
   "source": [
    "bins = [0,25,50,75,100]\n",
    "group_names = ['Low','Okay','Good','Great']\n",
    "df['postTestScore_category'] = pd.cut(df['postTestScore'],bins,labels = group_names)\n",
    "df.drop('categories', axis=1, inplace = True)\n",
    "df.head(3)"
   ]
  },
  {
   "cell_type": "markdown",
   "metadata": {},
   "source": [
    "**Create bins and bin up preTestScore by those bins**"
   ]
  },
  {
   "cell_type": "code",
   "execution_count": 44,
   "metadata": {
    "collapsed": false
   },
   "outputs": [
    {
     "data": {
      "text/html": [
       "<div>\n",
       "<table border=\"1\" class=\"dataframe\">\n",
       "  <thead>\n",
       "    <tr style=\"text-align: right;\">\n",
       "      <th></th>\n",
       "      <th>regiment</th>\n",
       "      <th>company</th>\n",
       "      <th>name</th>\n",
       "      <th>preTestScore</th>\n",
       "      <th>postTestScore</th>\n",
       "      <th>postTestScore_category</th>\n",
       "      <th>preTestScore_category</th>\n",
       "    </tr>\n",
       "  </thead>\n",
       "  <tbody>\n",
       "    <tr>\n",
       "      <th>0</th>\n",
       "      <td>Nighthawks</td>\n",
       "      <td>1st</td>\n",
       "      <td>Miller</td>\n",
       "      <td>4</td>\n",
       "      <td>25</td>\n",
       "      <td>Low</td>\n",
       "      <td>Low</td>\n",
       "    </tr>\n",
       "    <tr>\n",
       "      <th>1</th>\n",
       "      <td>Nighthawks</td>\n",
       "      <td>1st</td>\n",
       "      <td>Jacobson</td>\n",
       "      <td>24</td>\n",
       "      <td>94</td>\n",
       "      <td>Great</td>\n",
       "      <td>Low</td>\n",
       "    </tr>\n",
       "    <tr>\n",
       "      <th>2</th>\n",
       "      <td>Nighthawks</td>\n",
       "      <td>2nd</td>\n",
       "      <td>Ali</td>\n",
       "      <td>31</td>\n",
       "      <td>57</td>\n",
       "      <td>Good</td>\n",
       "      <td>Okay</td>\n",
       "    </tr>\n",
       "  </tbody>\n",
       "</table>\n",
       "</div>"
      ],
      "text/plain": [
       "     regiment company      name  preTestScore  postTestScore  \\\n",
       "0  Nighthawks     1st    Miller             4             25   \n",
       "1  Nighthawks     1st  Jacobson            24             94   \n",
       "2  Nighthawks     2nd       Ali            31             57   \n",
       "\n",
       "  postTestScore_category preTestScore_category  \n",
       "0                    Low                   Low  \n",
       "1                  Great                   Low  \n",
       "2                   Good                  Okay  "
      ]
     },
     "execution_count": 44,
     "metadata": {},
     "output_type": "execute_result"
    }
   ],
   "source": [
    "bins = [0,25,50,75,100]\n",
    "group_names1 = ['Low','Okay','Good','Great']\n",
    "df['preTestScore_category'] = pd.cut(df['preTestScore'],bins,labels=group_names1)\n",
    "df.head(3)"
   ]
  },
  {
   "cell_type": "markdown",
   "metadata": {},
   "source": [
    "**Apply the get_stats() function to each postTestScore bin**"
   ]
  },
  {
   "cell_type": "code",
   "execution_count": 53,
   "metadata": {
    "collapsed": false
   },
   "outputs": [
    {
     "data": {
      "text/html": [
       "<div>\n",
       "<table border=\"1\" class=\"dataframe\">\n",
       "  <thead>\n",
       "    <tr style=\"text-align: right;\">\n",
       "      <th></th>\n",
       "      <th>count</th>\n",
       "      <th>max</th>\n",
       "      <th>mean</th>\n",
       "      <th>min</th>\n",
       "    </tr>\n",
       "    <tr>\n",
       "      <th>postTestScore_category</th>\n",
       "      <th></th>\n",
       "      <th></th>\n",
       "      <th></th>\n",
       "      <th></th>\n",
       "    </tr>\n",
       "  </thead>\n",
       "  <tbody>\n",
       "    <tr>\n",
       "      <th>Low</th>\n",
       "      <td>2.0</td>\n",
       "      <td>25.0</td>\n",
       "      <td>25.00</td>\n",
       "      <td>25.0</td>\n",
       "    </tr>\n",
       "    <tr>\n",
       "      <th>Okay</th>\n",
       "      <td>0.0</td>\n",
       "      <td>NaN</td>\n",
       "      <td>NaN</td>\n",
       "      <td>NaN</td>\n",
       "    </tr>\n",
       "    <tr>\n",
       "      <th>Good</th>\n",
       "      <td>8.0</td>\n",
       "      <td>70.0</td>\n",
       "      <td>63.75</td>\n",
       "      <td>57.0</td>\n",
       "    </tr>\n",
       "    <tr>\n",
       "      <th>Great</th>\n",
       "      <td>2.0</td>\n",
       "      <td>94.0</td>\n",
       "      <td>94.00</td>\n",
       "      <td>94.0</td>\n",
       "    </tr>\n",
       "  </tbody>\n",
       "</table>\n",
       "</div>"
      ],
      "text/plain": [
       "                        count   max   mean   min\n",
       "postTestScore_category                          \n",
       "Low                       2.0  25.0  25.00  25.0\n",
       "Okay                      0.0   NaN    NaN   NaN\n",
       "Good                      8.0  70.0  63.75  57.0\n",
       "Great                     2.0  94.0  94.00  94.0"
      ]
     },
     "execution_count": 53,
     "metadata": {},
     "output_type": "execute_result"
    }
   ],
   "source": [
    "df['postTestScore'].groupby(df['postTestScore_category']).apply(get_stats).unstack()"
   ]
  },
  {
   "cell_type": "code",
   "execution_count": 54,
   "metadata": {
    "collapsed": false
   },
   "outputs": [
    {
     "data": {
      "text/html": [
       "<div>\n",
       "<table border=\"1\" class=\"dataframe\">\n",
       "  <thead>\n",
       "    <tr style=\"text-align: right;\">\n",
       "      <th></th>\n",
       "      <th>count</th>\n",
       "      <th>max</th>\n",
       "      <th>mean</th>\n",
       "      <th>min</th>\n",
       "    </tr>\n",
       "    <tr>\n",
       "      <th>preTestScore_category</th>\n",
       "      <th></th>\n",
       "      <th></th>\n",
       "      <th></th>\n",
       "      <th></th>\n",
       "    </tr>\n",
       "  </thead>\n",
       "  <tbody>\n",
       "    <tr>\n",
       "      <th>Low</th>\n",
       "      <td>10.0</td>\n",
       "      <td>24.0</td>\n",
       "      <td>7.1</td>\n",
       "      <td>2.0</td>\n",
       "    </tr>\n",
       "    <tr>\n",
       "      <th>Okay</th>\n",
       "      <td>2.0</td>\n",
       "      <td>31.0</td>\n",
       "      <td>31.0</td>\n",
       "      <td>31.0</td>\n",
       "    </tr>\n",
       "    <tr>\n",
       "      <th>Good</th>\n",
       "      <td>0.0</td>\n",
       "      <td>NaN</td>\n",
       "      <td>NaN</td>\n",
       "      <td>NaN</td>\n",
       "    </tr>\n",
       "    <tr>\n",
       "      <th>Great</th>\n",
       "      <td>0.0</td>\n",
       "      <td>NaN</td>\n",
       "      <td>NaN</td>\n",
       "      <td>NaN</td>\n",
       "    </tr>\n",
       "  </tbody>\n",
       "</table>\n",
       "</div>"
      ],
      "text/plain": [
       "                       count   max  mean   min\n",
       "preTestScore_category                         \n",
       "Low                     10.0  24.0   7.1   2.0\n",
       "Okay                     2.0  31.0  31.0  31.0\n",
       "Good                     0.0   NaN   NaN   NaN\n",
       "Great                    0.0   NaN   NaN   NaN"
      ]
     },
     "execution_count": 54,
     "metadata": {},
     "output_type": "execute_result"
    }
   ],
   "source": [
    "df['preTestScore'].groupby(df['preTestScore_category']).apply(get_stats).unstack()"
   ]
  },
  {
   "cell_type": "code",
   "execution_count": null,
   "metadata": {
    "collapsed": true
   },
   "outputs": [],
   "source": []
  }
 ],
 "metadata": {
  "kernelspec": {
   "display_name": "Python [conda env:py35]",
   "language": "python",
   "name": "conda-env-py35-py"
  },
  "language_info": {
   "codemirror_mode": {
    "name": "ipython",
    "version": 3
   },
   "file_extension": ".py",
   "mimetype": "text/x-python",
   "name": "python",
   "nbconvert_exporter": "python",
   "pygments_lexer": "ipython3",
   "version": "3.5.2"
  }
 },
 "nbformat": 4,
 "nbformat_minor": 1
}
