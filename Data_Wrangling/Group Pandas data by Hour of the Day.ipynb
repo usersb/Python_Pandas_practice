{
 "cells": [
  {
   "cell_type": "markdown",
   "metadata": {},
   "source": [
    "**Group Pandas data by Hour of the Day**\n",
    "\n",
    "https://chrisalbon.com/python/data_wrangling/group_pandas_data_by_hour_of_the_day/"
   ]
  },
  {
   "cell_type": "code",
   "execution_count": 1,
   "metadata": {
    "collapsed": true
   },
   "outputs": [],
   "source": [
    "import pandas as pd\n",
    "import numpy as np"
   ]
  },
  {
   "cell_type": "markdown",
   "metadata": {},
   "source": [
    "**Create Data**"
   ]
  },
  {
   "cell_type": "code",
   "execution_count": 2,
   "metadata": {
    "collapsed": true
   },
   "outputs": [],
   "source": [
    "# Create a time series of 2000 elements, one very five minutes starting on 1/1/2000\n",
    "\n",
    "time = pd.date_range('1/2/2000',periods = 2000, freq='5min')\n",
    "\n",
    "#Create a pandas series with 2000 random values between 0 and 100, using time as the index\n",
    "\n",
    "series = pd.Series(np.random.randint(100, size=2000), index = time)"
   ]
  },
  {
   "cell_type": "markdown",
   "metadata": {},
   "source": [
    "**View Data**"
   ]
  },
  {
   "cell_type": "code",
   "execution_count": 3,
   "metadata": {
    "collapsed": false
   },
   "outputs": [
    {
     "data": {
      "text/plain": [
       "2000-01-02 00:00:00    79\n",
       "2000-01-02 00:05:00    82\n",
       "2000-01-02 00:10:00    33\n",
       "2000-01-02 00:15:00    22\n",
       "2000-01-02 00:20:00    25\n",
       "2000-01-02 00:25:00    74\n",
       "2000-01-02 00:30:00    87\n",
       "2000-01-02 00:35:00    52\n",
       "2000-01-02 00:40:00    72\n",
       "2000-01-02 00:45:00    92\n",
       "2000-01-02 00:50:00    38\n",
       "2000-01-02 00:55:00    48\n",
       "2000-01-02 01:00:00    95\n",
       "2000-01-02 01:05:00    76\n",
       "2000-01-02 01:10:00     9\n",
       "2000-01-02 01:15:00    31\n",
       "2000-01-02 01:20:00    91\n",
       "2000-01-02 01:25:00    98\n",
       "2000-01-02 01:30:00    61\n",
       "2000-01-02 01:35:00    26\n",
       "2000-01-02 01:40:00    53\n",
       "2000-01-02 01:45:00    29\n",
       "2000-01-02 01:50:00    82\n",
       "2000-01-02 01:55:00     0\n",
       "2000-01-02 02:00:00     1\n",
       "2000-01-02 02:05:00    96\n",
       "2000-01-02 02:10:00    58\n",
       "2000-01-02 02:15:00    11\n",
       "2000-01-02 02:20:00    98\n",
       "2000-01-02 02:25:00    54\n",
       "                       ..\n",
       "2000-01-08 20:10:00    81\n",
       "2000-01-08 20:15:00    42\n",
       "2000-01-08 20:20:00     1\n",
       "2000-01-08 20:25:00    26\n",
       "2000-01-08 20:30:00    44\n",
       "2000-01-08 20:35:00    40\n",
       "2000-01-08 20:40:00    51\n",
       "2000-01-08 20:45:00    76\n",
       "2000-01-08 20:50:00    67\n",
       "2000-01-08 20:55:00    36\n",
       "2000-01-08 21:00:00    38\n",
       "2000-01-08 21:05:00    39\n",
       "2000-01-08 21:10:00    74\n",
       "2000-01-08 21:15:00    93\n",
       "2000-01-08 21:20:00    93\n",
       "2000-01-08 21:25:00    41\n",
       "2000-01-08 21:30:00    66\n",
       "2000-01-08 21:35:00     2\n",
       "2000-01-08 21:40:00    53\n",
       "2000-01-08 21:45:00    82\n",
       "2000-01-08 21:50:00    70\n",
       "2000-01-08 21:55:00    55\n",
       "2000-01-08 22:00:00    63\n",
       "2000-01-08 22:05:00    59\n",
       "2000-01-08 22:10:00     9\n",
       "2000-01-08 22:15:00     3\n",
       "2000-01-08 22:20:00     6\n",
       "2000-01-08 22:25:00    10\n",
       "2000-01-08 22:30:00    30\n",
       "2000-01-08 22:35:00    61\n",
       "Freq: 5T, dtype: int64"
      ]
     },
     "execution_count": 3,
     "metadata": {},
     "output_type": "execute_result"
    }
   ],
   "source": [
    "series"
   ]
  },
  {
   "cell_type": "markdown",
   "metadata": {},
   "source": [
    "**Group data by Time of the Day**"
   ]
  },
  {
   "cell_type": "code",
   "execution_count": 4,
   "metadata": {
    "collapsed": false
   },
   "outputs": [
    {
     "data": {
      "text/plain": [
       "0     50.904762\n",
       "1     54.202381\n",
       "2     48.250000\n",
       "3     49.547619\n",
       "4     54.869048\n",
       "5     51.845238\n",
       "6     51.500000\n",
       "7     56.892857\n",
       "8     48.226190\n",
       "9     43.000000\n",
       "10    47.095238\n",
       "11    45.750000\n",
       "12    52.130952\n",
       "13    48.178571\n",
       "14    52.952381\n",
       "15    47.988095\n",
       "16    44.785714\n",
       "17    48.761905\n",
       "18    51.952381\n",
       "19    50.095238\n",
       "20    51.845238\n",
       "21    46.261905\n",
       "22    53.450000\n",
       "23    44.458333\n",
       "dtype: float64"
      ]
     },
     "execution_count": 4,
     "metadata": {},
     "output_type": "execute_result"
    }
   ],
   "source": [
    "# Group the data by the index's hour value, then aggregate by the average\n",
    "\n",
    "series.groupby(series.index.hour).mean()"
   ]
  },
  {
   "cell_type": "code",
   "execution_count": null,
   "metadata": {
    "collapsed": true
   },
   "outputs": [],
   "source": []
  }
 ],
 "metadata": {
  "kernelspec": {
   "display_name": "Python [conda env:py35]",
   "language": "python",
   "name": "conda-env-py35-py"
  },
  "language_info": {
   "codemirror_mode": {
    "name": "ipython",
    "version": 3
   },
   "file_extension": ".py",
   "mimetype": "text/x-python",
   "name": "python",
   "nbconvert_exporter": "python",
   "pygments_lexer": "ipython3",
   "version": "3.5.2"
  }
 },
 "nbformat": 4,
 "nbformat_minor": 1
}
