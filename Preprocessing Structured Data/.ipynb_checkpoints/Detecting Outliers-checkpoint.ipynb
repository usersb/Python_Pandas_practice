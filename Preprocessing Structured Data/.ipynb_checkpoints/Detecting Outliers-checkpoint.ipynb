{
 "cells": [
  {
   "cell_type": "markdown",
   "metadata": {},
   "source": [
    "**Detecting Outliers**\n",
    "\n",
    "https://chrisalbon.com/machine_learning/preprocessing_structured_data/detecting_outliers/"
   ]
  },
  {
   "cell_type": "markdown",
   "metadata": {},
   "source": [
    "**Preliminaries**"
   ]
  },
  {
   "cell_type": "code",
   "execution_count": 1,
   "metadata": {
    "collapsed": true
   },
   "outputs": [],
   "source": [
    "import numpy as np\n",
    "from sklearn.covariance import EllipticEnvelope\n",
    "from sklearn.datasets import make_blobs"
   ]
  },
  {
   "cell_type": "markdown",
   "metadata": {},
   "source": [
    "**Create Data**"
   ]
  },
  {
   "cell_type": "code",
   "execution_count": 2,
   "metadata": {
    "collapsed": true
   },
   "outputs": [],
   "source": [
    "#Create simulated data\n",
    "X, _ = make_blobs(n_samples=10,n_features=2,centers=1,random_state=1)\n",
    "\n",
    "#Replace the first observation's values with extreme values\n",
    "X[0,0] = 10000\n",
    "X[0,1] = 10000"
   ]
  },
  {
   "cell_type": "code",
   "execution_count": 3,
   "metadata": {
    "collapsed": false
   },
   "outputs": [
    {
     "data": {
      "text/plain": [
       "array([[  1.00000000e+04,   1.00000000e+04],\n",
       "       [ -2.76017908e+00,   5.55121358e+00],\n",
       "       [ -1.61734616e+00,   4.98930508e+00],\n",
       "       [ -5.25790464e-01,   3.30659860e+00],\n",
       "       [  8.52518583e-02,   3.64528297e+00],\n",
       "       [ -7.94152277e-01,   2.10495117e+00],\n",
       "       [ -1.34052081e+00,   4.15711949e+00],\n",
       "       [ -1.98197711e+00,   4.02243551e+00],\n",
       "       [ -2.18773166e+00,   3.33352125e+00],\n",
       "       [ -1.97451969e-01,   2.34634916e+00]])"
      ]
     },
     "execution_count": 3,
     "metadata": {},
     "output_type": "execute_result"
    }
   ],
   "source": [
    "X"
   ]
  },
  {
   "cell_type": "markdown",
   "metadata": {},
   "source": [
    "**Detect Outliers**"
   ]
  },
  {
   "cell_type": "markdown",
   "metadata": {},
   "source": [
    "Elliptic envelope assumes the data is normally distributed and based on that assumption \"draws\" an ellipse around the data, classifying an observation inside the ellipse as an inlier(labeled as 1) and any observation outside the ellipse as an oulier(labeled as -1). A major limitation to this approach is to specify as contamination parameter, which is the proportion of observations that are outliers, a value that we don't know."
   ]
  },
  {
   "cell_type": "code",
   "execution_count": 4,
   "metadata": {
    "collapsed": false
   },
   "outputs": [
    {
     "data": {
      "text/plain": [
       "array([-1,  1,  1,  1,  1,  1,  1,  1,  1,  1])"
      ]
     },
     "execution_count": 4,
     "metadata": {},
     "output_type": "execute_result"
    }
   ],
   "source": [
    "#Create detector\n",
    "\n",
    "outlier_detector = EllipticEnvelope(contamination=0.1)\n",
    "\n",
    "#Fit detector\n",
    "\n",
    "outlier_detector.fit(X)\n",
    "\n",
    "#Predict outliers\n",
    "\n",
    "outlier_detector.predict(X)"
   ]
  },
  {
   "cell_type": "code",
   "execution_count": null,
   "metadata": {
    "collapsed": true
   },
   "outputs": [],
   "source": []
  }
 ],
 "metadata": {
  "kernelspec": {
   "display_name": "Python [conda env:py35]",
   "language": "python",
   "name": "conda-env-py35-py"
  },
  "language_info": {
   "codemirror_mode": {
    "name": "ipython",
    "version": 3
   },
   "file_extension": ".py",
   "mimetype": "text/x-python",
   "name": "python",
   "nbconvert_exporter": "python",
   "pygments_lexer": "ipython3",
   "version": "3.5.2"
  }
 },
 "nbformat": 4,
 "nbformat_minor": 1
}
