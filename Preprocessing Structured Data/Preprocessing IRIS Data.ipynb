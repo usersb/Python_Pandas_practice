{
 "cells": [
  {
   "cell_type": "markdown",
   "metadata": {},
   "source": [
    "**Preprocessing IRIS Data**\n",
    "\n",
    "https://chrisalbon.com/machine_learning/preprocessing_structured_data/preprocessing_iris_data/"
   ]
  },
  {
   "cell_type": "markdown",
   "metadata": {},
   "source": [
    "**Preliminaries**"
   ]
  },
  {
   "cell_type": "code",
   "execution_count": 3,
   "metadata": {
    "collapsed": true
   },
   "outputs": [],
   "source": [
    "#Load libraries\n",
    "\n",
    "import numpy as np\n",
    "import pandas as pd\n",
    "from sklearn import datasets\n",
    "from sklearn.preprocessing import StandardScaler\n",
    "from sklearn.cross_validation import train_test_split"
   ]
  },
  {
   "cell_type": "markdown",
   "metadata": {},
   "source": [
    "**Load Data**"
   ]
  },
  {
   "cell_type": "code",
   "execution_count": 4,
   "metadata": {
    "collapsed": true
   },
   "outputs": [],
   "source": [
    "#Load the Iris Data\n",
    "iris = datasets.load_iris()\n",
    "\n",
    "#Create a variable for feature data\n",
    "X = iris.data\n",
    "\n",
    "#Create a variable for target data\n",
    "y = iris.target"
   ]
  },
  {
   "cell_type": "markdown",
   "metadata": {},
   "source": [
    "**Split data for Cross Validation**"
   ]
  },
  {
   "cell_type": "code",
   "execution_count": 5,
   "metadata": {
    "collapsed": true
   },
   "outputs": [],
   "source": [
    "#Random split the data into four new datasets, training features, training outcome, test features, test outcome. Set\n",
    "#the size of the test data to be 30% of the actual dataset\n",
    "\n",
    "X_train, X_test, y_train, y_test = train_test_split(X, y, test_size = 0.3, random_state = 42)\n"
   ]
  },
  {
   "cell_type": "markdown",
   "metadata": {},
   "source": [
    "**Standardize Feature Data**"
   ]
  },
  {
   "cell_type": "code",
   "execution_count": 6,
   "metadata": {
    "collapsed": true
   },
   "outputs": [],
   "source": [
    "#Load the standard scaler\n",
    "\n",
    "sc = StandardScaler()\n",
    "\n",
    "#Compute the mean and standard deviation based on the training data\n",
    "\n",
    "sc.fit(X_train)\n",
    "\n",
    "#Scale the training data to be of mean 0 and unit variance\n",
    "\n",
    "X_train_std = sc.transform(X_train)\n",
    "\n",
    "#Scale the test data to be of mean 0 and unit variance\n",
    "\n",
    "X_test_std = sc.transform(X_test)\n",
    "\n"
   ]
  },
  {
   "cell_type": "code",
   "execution_count": 8,
   "metadata": {
    "collapsed": false
   },
   "outputs": [
    {
     "data": {
      "text/plain": [
       "array([[ 6.1,  2.8,  4.7,  1.2],\n",
       "       [ 5.7,  3.8,  1.7,  0.3],\n",
       "       [ 7.7,  2.6,  6.9,  2.3],\n",
       "       [ 6. ,  2.9,  4.5,  1.5],\n",
       "       [ 6.8,  2.8,  4.8,  1.4]])"
      ]
     },
     "execution_count": 8,
     "metadata": {},
     "output_type": "execute_result"
    }
   ],
   "source": [
    "#Feature test data non-standardized\n",
    "X_test[0:5]"
   ]
  },
  {
   "cell_type": "code",
   "execution_count": 9,
   "metadata": {
    "collapsed": false
   },
   "outputs": [
    {
     "data": {
      "text/plain": [
       "array([[ 0.3100623 , -0.49582097,  0.48403749, -0.05143998],\n",
       "       [-0.17225683,  1.92563026, -1.26851205, -1.26670948],\n",
       "       [ 2.23933883, -0.98011121,  1.76924049,  1.43388941],\n",
       "       [ 0.18948252, -0.25367584,  0.36720086,  0.35364985],\n",
       "       [ 1.15412078, -0.49582097,  0.54245581,  0.21861991]])"
      ]
     },
     "execution_count": 9,
     "metadata": {},
     "output_type": "execute_result"
    }
   ],
   "source": [
    "#Feature test data standardized\n",
    "X_test_std[0:5]"
   ]
  },
  {
   "cell_type": "code",
   "execution_count": null,
   "metadata": {
    "collapsed": true
   },
   "outputs": [],
   "source": []
  }
 ],
 "metadata": {
  "kernelspec": {
   "display_name": "Python [conda env:py35]",
   "language": "python",
   "name": "conda-env-py35-py"
  },
  "language_info": {
   "codemirror_mode": {
    "name": "ipython",
    "version": 3
   },
   "file_extension": ".py",
   "mimetype": "text/x-python",
   "name": "python",
   "nbconvert_exporter": "python",
   "pygments_lexer": "ipython3",
   "version": "3.5.2"
  }
 },
 "nbformat": 4,
 "nbformat_minor": 1
}
